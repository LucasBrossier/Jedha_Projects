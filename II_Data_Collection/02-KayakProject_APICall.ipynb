{
 "cells": [
  {
   "cell_type": "markdown",
   "metadata": {},
   "source": [
    "## PROJECT - SCRAPING"
   ]
  },
  {
   "cell_type": "code",
   "execution_count": 1,
   "metadata": {},
   "outputs": [
    {
     "name": "stdout",
     "output_type": "stream",
     "text": [
      "Collecting plotly\n",
      "  Downloading plotly-5.3.1-py2.py3-none-any.whl (23.9 MB)\n",
      "\u001b[K     |████████████████████████████████| 23.9 MB 9.8 MB/s eta 0:00:01\n",
      "\u001b[?25hRequirement already satisfied: six in /opt/conda/lib/python3.8/site-packages (from plotly) (1.15.0)\n",
      "Collecting tenacity>=6.2.0\n",
      "  Using cached tenacity-8.0.1-py3-none-any.whl (24 kB)\n",
      "Installing collected packages: tenacity, plotly\n",
      "Successfully installed plotly-5.3.1 tenacity-8.0.1\n",
      "Building jupyterlab assets (build:prod:minimize)\n"
     ]
    }
   ],
   "source": [
    "!pip install plotly\n",
    "!jupyter labextension install jupyterlab-plotly@5.2.1 @jupyter-widgets/jupyterlab-manager"
   ]
  },
  {
   "cell_type": "code",
   "execution_count": 3,
   "metadata": {},
   "outputs": [
    {
     "name": "stdout",
     "output_type": "stream",
     "text": [
      "Requirement already satisfied: geopy in /opt/conda/lib/python3.8/site-packages (2.2.0)\n",
      "Requirement already satisfied: geographiclib<2,>=1.49 in /opt/conda/lib/python3.8/site-packages (from geopy) (1.52)\n"
     ]
    }
   ],
   "source": [
    "### On importe les librairies nécessaires\n",
    "\n",
    "import pandas as pd\n",
    "from pandas import DataFrame\n",
    "import json\n",
    "from random import randint\n",
    "\n",
    "import plotly.io as pio\n",
    "import plotly.express as px\n",
    "\n",
    "\n",
    "!pip install geopy\n",
    "from geopy.geocoders import Nominatim\n",
    "\n",
    "import requests"
   ]
  },
  {
   "cell_type": "code",
   "execution_count": 4,
   "metadata": {},
   "outputs": [
    {
     "data": {
      "text/html": [
       "<div>\n",
       "<style scoped>\n",
       "    .dataframe tbody tr th:only-of-type {\n",
       "        vertical-align: middle;\n",
       "    }\n",
       "\n",
       "    .dataframe tbody tr th {\n",
       "        vertical-align: top;\n",
       "    }\n",
       "\n",
       "    .dataframe thead th {\n",
       "        text-align: right;\n",
       "    }\n",
       "</style>\n",
       "<table border=\"1\" class=\"dataframe\">\n",
       "  <thead>\n",
       "    <tr style=\"text-align: right;\">\n",
       "      <th></th>\n",
       "      <th>Villes</th>\n",
       "    </tr>\n",
       "  </thead>\n",
       "  <tbody>\n",
       "    <tr>\n",
       "      <th>0</th>\n",
       "      <td>Mont Saint Michel</td>\n",
       "    </tr>\n",
       "    <tr>\n",
       "      <th>1</th>\n",
       "      <td>St Malo</td>\n",
       "    </tr>\n",
       "    <tr>\n",
       "      <th>2</th>\n",
       "      <td>Bayeux</td>\n",
       "    </tr>\n",
       "    <tr>\n",
       "      <th>3</th>\n",
       "      <td>Le Havre</td>\n",
       "    </tr>\n",
       "    <tr>\n",
       "      <th>4</th>\n",
       "      <td>Rouen</td>\n",
       "    </tr>\n",
       "  </tbody>\n",
       "</table>\n",
       "</div>"
      ],
      "text/plain": [
       "              Villes\n",
       "0  Mont Saint Michel\n",
       "1            St Malo\n",
       "2             Bayeux\n",
       "3           Le Havre\n",
       "4              Rouen"
      ]
     },
     "execution_count": 4,
     "metadata": {},
     "output_type": "execute_result"
    }
   ],
   "source": [
    "# On crée un DF avec les nom des 35 villes\n",
    "Liste_des_villes = [\"Mont Saint Michel\",\"St Malo\",\"Bayeux\",\"Le Havre\",\"Rouen\",\"Paris\",\"Amiens\",\"Lille\",\"Strasbourg\",\"Chateau du Haut Koenigsbourg\",\"Colmar\",\"Eguisheim\",\"Besancon\",\"Dijon\",\"Annecy\",\"Grenoble\",\"Lyon\",\"Gorges du Verdon\",\"Bormes les Mimosas\",\"Cassis\",\"Marseille\",\"Aix en Provence\",\"Avignon\",\"Uzes\",\"Nimes\",\"Aigues Mortes\",\"Saintes Maries de la mer\",\"Collioure\",\"Carcassonne\",\"Ariege\",\"Toulouse\",\"Montauban\",\"Biarritz\",\"Bayonne\",\"La Rochelle\"]\n",
    "liste_villes_DF = pd.DataFrame(Liste_des_villes, columns=['Villes'])\n",
    "liste_villes_DF.head(5)"
   ]
  },
  {
   "cell_type": "markdown",
   "metadata": {},
   "source": [
    "## 1 - On cherche a récupérer les coordonnées GPS de chaques villes"
   ]
  },
  {
   "cell_type": "code",
   "execution_count": 5,
   "metadata": {},
   "outputs": [
    {
     "data": {
      "text/plain": [
       "Villes              object\n",
       "NomComplet          object\n",
       "Latitude_Ville     float64\n",
       "Longitude_Ville    float64\n",
       "averageTemp        float64\n",
       "dtype: object"
      ]
     },
     "execution_count": 5,
     "metadata": {},
     "output_type": "execute_result"
    }
   ],
   "source": [
    "##1 - On cherche a récupérer les coordonnées GPS de chaques villes\n",
    "\n",
    "### On se connecte à l'API\n",
    "geolocator = Nominatim(user_agent='lucas')\n",
    "n = geolocator.geocode('Rouen', language='fr')\n",
    "\n",
    "### On créee la colonne coordonnées puis on la remplit l'adresse complète en utilisant uniquement le nom de la ville.\n",
    "liste_villes_DF[\"NomComplet\"] = liste_villes_DF[\"Villes\"].apply(geolocator.geocode)\n",
    "\n",
    "### On utilise l'adresse complète pour requêter la latitude x longitude de chaque ville\n",
    "liste_villes_DF[\"Latitude_Ville\"] = liste_villes_DF[\"NomComplet\"].apply(lambda x : x.latitude if x != None else None)\n",
    "liste_villes_DF[\"Longitude_Ville\"] = liste_villes_DF[\"NomComplet\"].apply(lambda x : x.longitude if x != None else None)\n",
    "\n",
    "liste_villes_DF[\"averageTemp\"] = float(0)\n",
    "\n",
    "liste_villes_DF.head(5)\n",
    "liste_villes_DF.dtypes"
   ]
  },
  {
   "cell_type": "markdown",
   "metadata": {},
   "source": [
    "## 2 - On va chercher a requêter l'API openweathermap pour récupérer les données météorologiques des villes ciblées"
   ]
  },
  {
   "cell_type": "code",
   "execution_count": 6,
   "metadata": {},
   "outputs": [],
   "source": [
    "apikey = 'dc4842f5bea40a49af2c77a5dc34ab91'\n",
    "def getWeather(lat, lon):\n",
    "      # Appel API\n",
    "    url = f\"https://api.openweathermap.org/data/2.5/onecall?lat={lat}&lon={lon}&exclude=current,minutely,hourly,alerts&appid={apikey}&units=metric\"\n",
    "        \n",
    "    # On stocke la réponse dans une variable\n",
    "    response = requests.get(url).json()\n",
    "    \n",
    "    # On récupère les températures moyennes des prochains jours\n",
    "    # On voit bien qu'on a 8 réponse au lieu de 7 attendues. Celle du jour est incluse. \n",
    "    tempDay0 = response['daily'][0]['temp']['day']\n",
    "    tempDay1 = response['daily'][1]['temp']['day']\n",
    "    tempDay2 = response['daily'][2]['temp']['day']\n",
    "    tempDay3 = response['daily'][3]['temp']['day']\n",
    "    tempDay4 = response['daily'][4]['temp']['day']\n",
    "    tempDay5 = response['daily'][5]['temp']['day']\n",
    "    tempDay6 = response['daily'][6]['temp']['day']\n",
    "    tempDay7 = response['daily'][7]['temp']['day']\n",
    "    \n",
    "    # On fait la moyenne d'entre eux\n",
    "    average_temp = (tempDay0 + tempDay1 + tempDay2 + tempDay3 + tempDay4 + tempDay5 + tempDay6 + tempDay7) / 8\n",
    "    return average_temp\n",
    "\n",
    "\n",
    "#def getWeather(lat, lon):\n",
    "#    value = randint(0, 100)\n",
    "#    return value"
   ]
  },
  {
   "cell_type": "code",
   "execution_count": 7,
   "metadata": {},
   "outputs": [
    {
     "name": "stdout",
     "output_type": "stream",
     "text": [
      "                          Villes  \\\n",
      "0              Mont Saint Michel   \n",
      "1                        St Malo   \n",
      "2                         Bayeux   \n",
      "3                       Le Havre   \n",
      "4                          Rouen   \n",
      "5                          Paris   \n",
      "6                         Amiens   \n",
      "7                          Lille   \n",
      "8                     Strasbourg   \n",
      "9   Chateau du Haut Koenigsbourg   \n",
      "10                        Colmar   \n",
      "11                     Eguisheim   \n",
      "12                      Besancon   \n",
      "13                         Dijon   \n",
      "14                        Annecy   \n",
      "15                      Grenoble   \n",
      "16                          Lyon   \n",
      "17              Gorges du Verdon   \n",
      "18            Bormes les Mimosas   \n",
      "19                        Cassis   \n",
      "20                     Marseille   \n",
      "21               Aix en Provence   \n",
      "22                       Avignon   \n",
      "23                          Uzes   \n",
      "24                         Nimes   \n",
      "25                 Aigues Mortes   \n",
      "26      Saintes Maries de la mer   \n",
      "27                     Collioure   \n",
      "28                   Carcassonne   \n",
      "29                        Ariege   \n",
      "30                      Toulouse   \n",
      "31                     Montauban   \n",
      "32                      Biarritz   \n",
      "33                       Bayonne   \n",
      "34                   La Rochelle   \n",
      "\n",
      "                                           NomComplet  Latitude_Ville  \\\n",
      "0   (Le Mont-Saint-Michel, Avranches, Manche, Norm...       48.635523   \n",
      "1   (Saint-Malo, Ille-et-Vilaine, Bretagne, France...       48.649518   \n",
      "2   (Bayeux, Calvados, Normandie, France métropoli...       49.276462   \n",
      "3   (Le Havre, Seine-Maritime, Normandie, France m...       49.493898   \n",
      "4   (Rouen, Seine-Maritime, Normandie, France métr...       49.440459   \n",
      "5   (Paris, France métropolitaine, 75044, France, ...       48.856697   \n",
      "6   (Amiens, Somme, Hauts-de-France, France métrop...       49.894171   \n",
      "7   (Lille, Nord, Hauts-de-France, France métropol...       50.636565   \n",
      "8   (Strasbourg, Bas-Rhin, Grand Est, France métro...       48.584614   \n",
      "9   (Château du Haut-Kœnigsbourg, Chemin fermé sui...       48.249490   \n",
      "10  (Colmar, Colmar-Ribeauvillé, Haut-Rhin, Grand ...       48.077752   \n",
      "11  (Eguisheim, Colmar-Ribeauvillé, Haut-Rhin, Gra...       48.044797   \n",
      "12  (Besançon, Doubs, Bourgogne-Franche-Comté, Fra...       47.238022   \n",
      "13  (Dijon, Côte-d'Or, Bourgogne-Franche-Comté, Fr...       47.321581   \n",
      "14  (Annecy, Haute-Savoie, Auvergne-Rhône-Alpes, F...       45.899235   \n",
      "15  (Grenoble, Isère, Auvergne-Rhône-Alpes, France...       45.187560   \n",
      "16  (Lyon, Métropole de Lyon, Circonscription dépa...       45.757814   \n",
      "17  (Gorges du Verdon, La Palud-sur-Verdon, Castel...       43.749700   \n",
      "18  (Bormes-les-Mimosas, Toulon, Var, Provence-Alp...       43.150697   \n",
      "19  (Cassis, Marseille, Bouches-du-Rhône, Provence...       43.214036   \n",
      "20  (Marseille, Bouches-du-Rhône, Provence-Alpes-C...       43.296174   \n",
      "21  (Aix-en-Provence, Bouches-du-Rhône, Provence-A...       43.529842   \n",
      "22  (Avignon, Vaucluse, Provence-Alpes-Côte d'Azur...       43.949249   \n",
      "23  (Uzès, Nîmes, Gard, Occitanie, France métropol...       44.012128   \n",
      "24  (Nîmes, Gard, Occitanie, France métropolitaine...       43.837425   \n",
      "25  (Aigues-Mortes, Nîmes, Gard, Occitanie, France...       43.565823   \n",
      "26  (Saintes-Maries-de-la-Mer, Arles, Bouches-du-R...       43.452277   \n",
      "27  (Collioure, Céret, Pyrénées-Orientales, Occita...       42.525050   \n",
      "28  (Carcassonne, Aude, Occitanie, France métropol...       43.213036   \n",
      "29  (Ariège, Occitanie, France métropolitaine, Fra...       42.945537   \n",
      "30  (Toulouse, Haute-Garonne, Occitanie, France mé...       43.604462   \n",
      "31  (Montauban, Tarn-et-Garonne, Occitanie, France...       44.017584   \n",
      "32  (Biarritz, Bayonne, Pyrénées-Atlantiques, Nouv...       43.471144   \n",
      "33  (Bayonne, Pyrénées-Atlantiques, Nouvelle-Aquit...       43.493338   \n",
      "34  (La Rochelle, Charente-Maritime, Nouvelle-Aqui...       46.159113   \n",
      "\n",
      "    Longitude_Ville  averageTemp  \n",
      "0         -1.510257     22.99250  \n",
      "1         -2.026041     20.70375  \n",
      "2         -0.702474     22.57125  \n",
      "3          0.107973     20.31375  \n",
      "4          1.093966     23.39250  \n",
      "5          2.351462     24.04750  \n",
      "6          2.295695     22.78875  \n",
      "7          3.063528     21.98625  \n",
      "8          7.750713     22.67250  \n",
      "9          7.344296     20.02750  \n",
      "10         7.357964     22.74375  \n",
      "11         7.307962     23.00750  \n",
      "12         6.024362     22.50750  \n",
      "13         5.041470     22.41500  \n",
      "14         6.128885     23.36750  \n",
      "15         5.735782     25.79125  \n",
      "16         4.832011     25.21000  \n",
      "17         6.328590     23.03625  \n",
      "18         6.341928     25.14125  \n",
      "19         5.539632     25.31500  \n",
      "20         5.369953     25.12750  \n",
      "21         5.447474     26.32750  \n",
      "22         4.805901     27.23125  \n",
      "23         4.419672     26.43125  \n",
      "24         4.360069     26.60875  \n",
      "25         4.191284     23.53000  \n",
      "26         4.428717     23.25500  \n",
      "27         3.083155     25.05500  \n",
      "28         2.349107     25.53750  \n",
      "29         1.406554     20.95375  \n",
      "30         1.444247     26.00750  \n",
      "31         1.354999     25.98875  \n",
      "32        -1.552727     24.11375  \n",
      "33        -1.475099     25.11875  \n",
      "34        -1.152043     22.75125  \n"
     ]
    }
   ],
   "source": [
    "for idx, row in liste_villes_DF.iterrows():\n",
    "\n",
    "    # A chaque itération on stocke la valeur des colonnes lat / lon dans des varaiables que l'on passe plus tard en paramètre    \n",
    "    lat = row['Latitude_Ville']\n",
    "    lon = row['Longitude_Ville']\n",
    "    \n",
    "    # On appelle la fonction getWeather avec tous les paramètres nécessaires\n",
    "    average_temp = getWeather(lat, lon)\n",
    "    \n",
    "    liste_villes_DF.loc[idx, 'averageTemp'] = average_temp\n",
    "    \n",
    "    \n",
    "print(liste_villes_DF)"
   ]
  },
  {
   "cell_type": "code",
   "execution_count": 8,
   "metadata": {},
   "outputs": [
    {
     "data": {
      "text/html": [
       "<div>\n",
       "<style scoped>\n",
       "    .dataframe tbody tr th:only-of-type {\n",
       "        vertical-align: middle;\n",
       "    }\n",
       "\n",
       "    .dataframe tbody tr th {\n",
       "        vertical-align: top;\n",
       "    }\n",
       "\n",
       "    .dataframe thead th {\n",
       "        text-align: right;\n",
       "    }\n",
       "</style>\n",
       "<table border=\"1\" class=\"dataframe\">\n",
       "  <thead>\n",
       "    <tr style=\"text-align: right;\">\n",
       "      <th></th>\n",
       "      <th>Villes</th>\n",
       "      <th>NomComplet</th>\n",
       "      <th>Latitude_Ville</th>\n",
       "      <th>Longitude_Ville</th>\n",
       "      <th>averageTemp</th>\n",
       "    </tr>\n",
       "  </thead>\n",
       "  <tbody>\n",
       "    <tr>\n",
       "      <th>22</th>\n",
       "      <td>Avignon</td>\n",
       "      <td>(Avignon, Vaucluse, Provence-Alpes-Côte d'Azur...</td>\n",
       "      <td>43.949249</td>\n",
       "      <td>4.805901</td>\n",
       "      <td>27.23125</td>\n",
       "    </tr>\n",
       "    <tr>\n",
       "      <th>24</th>\n",
       "      <td>Nimes</td>\n",
       "      <td>(Nîmes, Gard, Occitanie, France métropolitaine...</td>\n",
       "      <td>43.837425</td>\n",
       "      <td>4.360069</td>\n",
       "      <td>26.60875</td>\n",
       "    </tr>\n",
       "    <tr>\n",
       "      <th>23</th>\n",
       "      <td>Uzes</td>\n",
       "      <td>(Uzès, Nîmes, Gard, Occitanie, France métropol...</td>\n",
       "      <td>44.012128</td>\n",
       "      <td>4.419672</td>\n",
       "      <td>26.43125</td>\n",
       "    </tr>\n",
       "  </tbody>\n",
       "</table>\n",
       "</div>"
      ],
      "text/plain": [
       "     Villes                                         NomComplet  \\\n",
       "22  Avignon  (Avignon, Vaucluse, Provence-Alpes-Côte d'Azur...   \n",
       "24    Nimes  (Nîmes, Gard, Occitanie, France métropolitaine...   \n",
       "23     Uzes  (Uzès, Nîmes, Gard, Occitanie, France métropol...   \n",
       "\n",
       "    Latitude_Ville  Longitude_Ville  averageTemp  \n",
       "22       43.949249         4.805901     27.23125  \n",
       "24       43.837425         4.360069     26.60875  \n",
       "23       44.012128         4.419672     26.43125  "
      ]
     },
     "execution_count": 8,
     "metadata": {},
     "output_type": "execute_result"
    }
   ],
   "source": [
    "# on trie les trucs par ordre décroissant\n",
    "liste_villes_DF = liste_villes_DF.sort_values(by='averageTemp', axis=0, ascending=False)\n",
    "liste_villes_DF.head(3)"
   ]
  },
  {
   "cell_type": "code",
   "execution_count": 9,
   "metadata": {},
   "outputs": [],
   "source": [
    "liste_villes_DF.to_csv('exportDfVilles')"
   ]
  },
  {
   "cell_type": "code",
   "execution_count": 10,
   "metadata": {},
   "outputs": [
    {
     "ename": "ModuleNotFoundError",
     "evalue": "No module named 'plotly.graph_objs._icicle'",
     "output_type": "error",
     "traceback": [
      "\u001b[0;31m---------------------------------------------------------------------------\u001b[0m",
      "\u001b[0;31mModuleNotFoundError\u001b[0m                       Traceback (most recent call last)",
      "\u001b[0;32m<ipython-input-10-f30a84b98d4b>\u001b[0m in \u001b[0;36m<module>\u001b[0;34m\u001b[0m\n\u001b[0;32m----> 1\u001b[0;31m fig = px.scatter_mapbox(liste_villes_DF, lat=liste_villes_DF['Latitude_Ville'],\n\u001b[0m\u001b[1;32m      2\u001b[0m                         \u001b[0mlon\u001b[0m\u001b[0;34m=\u001b[0m\u001b[0mliste_villes_DF\u001b[0m\u001b[0;34m[\u001b[0m\u001b[0;34m'Longitude_Ville'\u001b[0m\u001b[0;34m]\u001b[0m\u001b[0;34m,\u001b[0m \u001b[0msize\u001b[0m\u001b[0;34m=\u001b[0m\u001b[0;34m\"averageTemp\"\u001b[0m\u001b[0;34m,\u001b[0m\u001b[0;34m\u001b[0m\u001b[0;34m\u001b[0m\u001b[0m\n\u001b[1;32m      3\u001b[0m                         color=\"averageTemp\", zoom=3.5, mapbox_style=\"carto-positron\")\n\u001b[1;32m      4\u001b[0m \u001b[0mfig\u001b[0m\u001b[0;34m.\u001b[0m\u001b[0mshow\u001b[0m\u001b[0;34m(\u001b[0m\u001b[0;34m)\u001b[0m\u001b[0;34m;\u001b[0m\u001b[0;34m\u001b[0m\u001b[0;34m\u001b[0m\u001b[0m\n",
      "\u001b[0;32m/opt/conda/lib/python3.8/site-packages/plotly/express/_chart_types.py\u001b[0m in \u001b[0;36mscatter_mapbox\u001b[0;34m(data_frame, lat, lon, color, text, hover_name, hover_data, custom_data, size, animation_frame, animation_group, category_orders, labels, color_discrete_sequence, color_discrete_map, color_continuous_scale, range_color, color_continuous_midpoint, opacity, size_max, zoom, center, mapbox_style, title, template, width, height)\u001b[0m\n\u001b[1;32m   1227\u001b[0m def scatter_matrix(\n\u001b[1;32m   1228\u001b[0m     \u001b[0mdata_frame\u001b[0m\u001b[0;34m=\u001b[0m\u001b[0;32mNone\u001b[0m\u001b[0;34m,\u001b[0m\u001b[0;34m\u001b[0m\u001b[0;34m\u001b[0m\u001b[0m\n\u001b[0;32m-> 1229\u001b[0;31m     \u001b[0mdimensions\u001b[0m\u001b[0;34m=\u001b[0m\u001b[0;32mNone\u001b[0m\u001b[0;34m,\u001b[0m\u001b[0;34m\u001b[0m\u001b[0;34m\u001b[0m\u001b[0m\n\u001b[0m\u001b[1;32m   1230\u001b[0m     \u001b[0mcolor\u001b[0m\u001b[0;34m=\u001b[0m\u001b[0;32mNone\u001b[0m\u001b[0;34m,\u001b[0m\u001b[0;34m\u001b[0m\u001b[0;34m\u001b[0m\u001b[0m\n\u001b[1;32m   1231\u001b[0m     \u001b[0msymbol\u001b[0m\u001b[0;34m=\u001b[0m\u001b[0;32mNone\u001b[0m\u001b[0;34m,\u001b[0m\u001b[0;34m\u001b[0m\u001b[0;34m\u001b[0m\u001b[0m\n",
      "\u001b[0;32m/opt/conda/lib/python3.8/site-packages/plotly/express/_core.py\u001b[0m in \u001b[0;36mmake_figure\u001b[0;34m(args, constructor, trace_patch, layout_patch)\u001b[0m\n\u001b[1;32m   1932\u001b[0m                     ):\n\u001b[1;32m   1933\u001b[0m                         \u001b[0mtrace\u001b[0m\u001b[0;34m.\u001b[0m\u001b[0mupdate\u001b[0m\u001b[0;34m(\u001b[0m\u001b[0mmarker\u001b[0m\u001b[0;34m=\u001b[0m\u001b[0mdict\u001b[0m\u001b[0;34m(\u001b[0m\u001b[0mcolor\u001b[0m\u001b[0;34m=\u001b[0m\u001b[0mm\u001b[0m\u001b[0;34m.\u001b[0m\u001b[0mval_map\u001b[0m\u001b[0;34m[\u001b[0m\u001b[0mval\u001b[0m\u001b[0;34m]\u001b[0m\u001b[0;34m)\u001b[0m\u001b[0;34m)\u001b[0m\u001b[0;34m\u001b[0m\u001b[0;34m\u001b[0m\u001b[0m\n\u001b[0;32m-> 1934\u001b[0;31m                     elif (\n\u001b[0m\u001b[1;32m   1935\u001b[0m                         \u001b[0mtrace_spec\u001b[0m\u001b[0;34m.\u001b[0m\u001b[0mconstructor\u001b[0m \u001b[0;32min\u001b[0m \u001b[0;34m[\u001b[0m\u001b[0mgo\u001b[0m\u001b[0;34m.\u001b[0m\u001b[0mChoropleth\u001b[0m\u001b[0;34m,\u001b[0m \u001b[0mgo\u001b[0m\u001b[0;34m.\u001b[0m\u001b[0mChoroplethmapbox\u001b[0m\u001b[0;34m]\u001b[0m\u001b[0;34m\u001b[0m\u001b[0;34m\u001b[0m\u001b[0m\n\u001b[1;32m   1936\u001b[0m                         \u001b[0;32mand\u001b[0m \u001b[0mm\u001b[0m\u001b[0;34m.\u001b[0m\u001b[0mvariable\u001b[0m \u001b[0;34m==\u001b[0m \u001b[0;34m\"color\"\u001b[0m\u001b[0;34m\u001b[0m\u001b[0;34m\u001b[0m\u001b[0m\n",
      "\u001b[0;32m/opt/conda/lib/python3.8/site-packages/plotly/graph_objs/__init__.py\u001b[0m in \u001b[0;36m__getattr__\u001b[0;34m(import_name)\u001b[0m\n\u001b[1;32m    292\u001b[0m                 \u001b[0;32mreturn\u001b[0m \u001b[0mFigureWidget\u001b[0m\u001b[0;34m\u001b[0m\u001b[0;34m\u001b[0m\u001b[0m\n\u001b[1;32m    293\u001b[0m \u001b[0;34m\u001b[0m\u001b[0m\n\u001b[0;32m--> 294\u001b[0;31m         \u001b[0;32mreturn\u001b[0m \u001b[0morig_getattr\u001b[0m\u001b[0;34m(\u001b[0m\u001b[0mimport_name\u001b[0m\u001b[0;34m)\u001b[0m\u001b[0;34m\u001b[0m\u001b[0;34m\u001b[0m\u001b[0m\n\u001b[0m",
      "\u001b[0;32m/opt/conda/lib/python3.8/site-packages/_plotly_utils/importers.py\u001b[0m in \u001b[0;36m__getattr__\u001b[0;34m(import_name)\u001b[0m\n\u001b[1;32m     34\u001b[0m             \u001b[0mrel_module\u001b[0m \u001b[0;34m=\u001b[0m \u001b[0;34m\".\"\u001b[0m\u001b[0;34m.\u001b[0m\u001b[0mjoin\u001b[0m\u001b[0;34m(\u001b[0m\u001b[0mrel_path_parts\u001b[0m\u001b[0;34m[\u001b[0m\u001b[0;34m:\u001b[0m\u001b[0;34m-\u001b[0m\u001b[0;36m1\u001b[0m\u001b[0;34m]\u001b[0m\u001b[0;34m)\u001b[0m\u001b[0;34m\u001b[0m\u001b[0;34m\u001b[0m\u001b[0m\n\u001b[1;32m     35\u001b[0m             \u001b[0mclass_name\u001b[0m \u001b[0;34m=\u001b[0m \u001b[0mimport_name\u001b[0m\u001b[0;34m\u001b[0m\u001b[0;34m\u001b[0m\u001b[0m\n\u001b[0;32m---> 36\u001b[0;31m             \u001b[0mclass_module\u001b[0m \u001b[0;34m=\u001b[0m \u001b[0mimportlib\u001b[0m\u001b[0;34m.\u001b[0m\u001b[0mimport_module\u001b[0m\u001b[0;34m(\u001b[0m\u001b[0mrel_module\u001b[0m\u001b[0;34m,\u001b[0m \u001b[0mparent_name\u001b[0m\u001b[0;34m)\u001b[0m\u001b[0;34m\u001b[0m\u001b[0;34m\u001b[0m\u001b[0m\n\u001b[0m\u001b[1;32m     37\u001b[0m             \u001b[0;32mreturn\u001b[0m \u001b[0mgetattr\u001b[0m\u001b[0;34m(\u001b[0m\u001b[0mclass_module\u001b[0m\u001b[0;34m,\u001b[0m \u001b[0mclass_name\u001b[0m\u001b[0;34m)\u001b[0m\u001b[0;34m\u001b[0m\u001b[0;34m\u001b[0m\u001b[0m\n\u001b[1;32m     38\u001b[0m \u001b[0;34m\u001b[0m\u001b[0m\n",
      "\u001b[0;32m/opt/conda/lib/python3.8/importlib/__init__.py\u001b[0m in \u001b[0;36mimport_module\u001b[0;34m(name, package)\u001b[0m\n\u001b[1;32m    125\u001b[0m                 \u001b[0;32mbreak\u001b[0m\u001b[0;34m\u001b[0m\u001b[0;34m\u001b[0m\u001b[0m\n\u001b[1;32m    126\u001b[0m             \u001b[0mlevel\u001b[0m \u001b[0;34m+=\u001b[0m \u001b[0;36m1\u001b[0m\u001b[0;34m\u001b[0m\u001b[0;34m\u001b[0m\u001b[0m\n\u001b[0;32m--> 127\u001b[0;31m     \u001b[0;32mreturn\u001b[0m \u001b[0m_bootstrap\u001b[0m\u001b[0;34m.\u001b[0m\u001b[0m_gcd_import\u001b[0m\u001b[0;34m(\u001b[0m\u001b[0mname\u001b[0m\u001b[0;34m[\u001b[0m\u001b[0mlevel\u001b[0m\u001b[0;34m:\u001b[0m\u001b[0;34m]\u001b[0m\u001b[0;34m,\u001b[0m \u001b[0mpackage\u001b[0m\u001b[0;34m,\u001b[0m \u001b[0mlevel\u001b[0m\u001b[0;34m)\u001b[0m\u001b[0;34m\u001b[0m\u001b[0;34m\u001b[0m\u001b[0m\n\u001b[0m\u001b[1;32m    128\u001b[0m \u001b[0;34m\u001b[0m\u001b[0m\n\u001b[1;32m    129\u001b[0m \u001b[0;34m\u001b[0m\u001b[0m\n",
      "\u001b[0;32m/opt/conda/lib/python3.8/importlib/_bootstrap.py\u001b[0m in \u001b[0;36m_gcd_import\u001b[0;34m(name, package, level)\u001b[0m\n",
      "\u001b[0;32m/opt/conda/lib/python3.8/importlib/_bootstrap.py\u001b[0m in \u001b[0;36m_find_and_load\u001b[0;34m(name, import_)\u001b[0m\n",
      "\u001b[0;32m/opt/conda/lib/python3.8/importlib/_bootstrap.py\u001b[0m in \u001b[0;36m_find_and_load_unlocked\u001b[0;34m(name, import_)\u001b[0m\n",
      "\u001b[0;31mModuleNotFoundError\u001b[0m: No module named 'plotly.graph_objs._icicle'"
     ]
    }
   ],
   "source": [
    "fig = px.scatter_mapbox(liste_villes_DF, lat=liste_villes_DF['Latitude_Ville'],\n",
    "                        lon=liste_villes_DF['Longitude_Ville'], size=\"averageTemp\", \n",
    "                        color=\"averageTemp\", zoom=3.5, mapbox_style=\"carto-positron\")\n",
    "fig.show();"
   ]
  },
  {
   "cell_type": "code",
   "execution_count": null,
   "metadata": {},
   "outputs": [],
   "source": []
  }
 ],
 "metadata": {
  "kernelspec": {
   "display_name": "Python 3",
   "language": "python",
   "name": "python3"
  },
  "language_info": {
   "codemirror_mode": {
    "name": "ipython",
    "version": 3
   },
   "file_extension": ".py",
   "mimetype": "text/x-python",
   "name": "python",
   "nbconvert_exporter": "python",
   "pygments_lexer": "ipython3",
   "version": "3.8.6"
  }
 },
 "nbformat": 4,
 "nbformat_minor": 4
}
