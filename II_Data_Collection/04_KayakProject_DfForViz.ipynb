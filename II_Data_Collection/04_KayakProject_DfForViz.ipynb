{
 "cells": [
  {
   "cell_type": "code",
   "execution_count": 1,
   "metadata": {},
   "outputs": [
    {
     "name": "stdout",
     "output_type": "stream",
     "text": []
    },
    {
     "name": "stdout",
     "output_type": "stream",
     "text": []
    },
    {
     "name": "stdout",
     "output_type": "stream",
     "text": []
    },
    {
     "name": "stdout",
     "output_type": "stream",
     "text": []
    },
    {
     "name": "stdout",
     "output_type": "stream",
     "text": [
      "Building jupyterlab assets (build:prod:minimize)\n"
     ]
    }
   ],
   "source": [
    "!jupyter labextension install jupyterlab-plotly@5.2.1 @jupyter-widgets/jupyterlab-manager"
   ]
  },
  {
   "cell_type": "code",
   "execution_count": 2,
   "metadata": {},
   "outputs": [
    {
     "name": "stdout",
     "output_type": "stream",
     "text": [
      "Requirement already satisfied: plotly in /opt/conda/lib/python3.8/site-packages (5.3.1)\n",
      "Requirement already satisfied: six in /opt/conda/lib/python3.8/site-packages (from plotly) (1.15.0)\n",
      "Requirement already satisfied: tenacity>=6.2.0 in /opt/conda/lib/python3.8/site-packages (from plotly) (8.0.1)\n"
     ]
    }
   ],
   "source": [
    "!pip install plotly"
   ]
  },
  {
   "cell_type": "code",
   "execution_count": 3,
   "metadata": {},
   "outputs": [],
   "source": [
    "import requests\n",
    "import pandas as pd\n",
    "import json\n",
    "from pandas import DataFrame\n",
    "import plotly.express as px\n",
    "import numpy as np"
   ]
  },
  {
   "cell_type": "code",
   "execution_count": 4,
   "metadata": {},
   "outputs": [
    {
     "data": {
      "text/html": [
       "<div>\n",
       "<style scoped>\n",
       "    .dataframe tbody tr th:only-of-type {\n",
       "        vertical-align: middle;\n",
       "    }\n",
       "\n",
       "    .dataframe tbody tr th {\n",
       "        vertical-align: top;\n",
       "    }\n",
       "\n",
       "    .dataframe thead th {\n",
       "        text-align: right;\n",
       "    }\n",
       "</style>\n",
       "<table border=\"1\" class=\"dataframe\">\n",
       "  <thead>\n",
       "    <tr style=\"text-align: right;\">\n",
       "      <th></th>\n",
       "      <th>cityid</th>\n",
       "      <th>hotel_id</th>\n",
       "      <th>cityName</th>\n",
       "      <th>hotelName</th>\n",
       "      <th>latitude_hotel</th>\n",
       "      <th>longitude_hotel</th>\n",
       "      <th>URL</th>\n",
       "      <th>score</th>\n",
       "      <th>description</th>\n",
       "    </tr>\n",
       "  </thead>\n",
       "  <tbody>\n",
       "  </tbody>\n",
       "</table>\n",
       "</div>"
      ],
      "text/plain": [
       "Empty DataFrame\n",
       "Columns: [cityid, hotel_id, cityName, hotelName, latitude_hotel, longitude_hotel, URL, score, description]\n",
       "Index: []"
      ]
     },
     "execution_count": 4,
     "metadata": {},
     "output_type": "execute_result"
    }
   ],
   "source": [
    "# On crée un dataset avec les colonnes qu'on veut dans le DF final que l'on utilisera pour la viz.\n",
    "# == Groupements de toutes les informations précédement récupérées. \n",
    "\n",
    "df_top_cities_hotels = pd.DataFrame(columns = [\"cityid\", \"hotel_id\",\"cityName\", \"hotelName\", \"latitude_hotel\", \"longitude_hotel\", \"URL\", \"score\", \"description\"])\n",
    "df_top_cities_hotels\n"
   ]
  },
  {
   "cell_type": "code",
   "execution_count": 5,
   "metadata": {},
   "outputs": [
    {
     "data": {
      "text/html": [
       "<div>\n",
       "<style scoped>\n",
       "    .dataframe tbody tr th:only-of-type {\n",
       "        vertical-align: middle;\n",
       "    }\n",
       "\n",
       "    .dataframe tbody tr th {\n",
       "        vertical-align: top;\n",
       "    }\n",
       "\n",
       "    .dataframe thead th {\n",
       "        text-align: right;\n",
       "    }\n",
       "</style>\n",
       "<table border=\"1\" class=\"dataframe\">\n",
       "  <thead>\n",
       "    <tr style=\"text-align: right;\">\n",
       "      <th></th>\n",
       "      <th>cityid</th>\n",
       "      <th>Villes</th>\n",
       "      <th>NomComplet</th>\n",
       "      <th>Latitude_Ville</th>\n",
       "      <th>Longitude_Ville</th>\n",
       "      <th>averageTemp</th>\n",
       "    </tr>\n",
       "  </thead>\n",
       "  <tbody>\n",
       "    <tr>\n",
       "      <th>0</th>\n",
       "      <td>22</td>\n",
       "      <td>Avignon</td>\n",
       "      <td>Avignon, Vaucluse, Provence-Alpes-Côte d'Azur,...</td>\n",
       "      <td>43.949249</td>\n",
       "      <td>4.805901</td>\n",
       "      <td>27.23125</td>\n",
       "    </tr>\n",
       "    <tr>\n",
       "      <th>1</th>\n",
       "      <td>24</td>\n",
       "      <td>Nimes</td>\n",
       "      <td>Nîmes, Gard, Occitanie, France métropolitaine,...</td>\n",
       "      <td>43.837425</td>\n",
       "      <td>4.360069</td>\n",
       "      <td>26.60875</td>\n",
       "    </tr>\n",
       "    <tr>\n",
       "      <th>2</th>\n",
       "      <td>23</td>\n",
       "      <td>Uzes</td>\n",
       "      <td>Uzès, Nîmes, Gard, Occitanie, France métropoli...</td>\n",
       "      <td>44.012128</td>\n",
       "      <td>4.419672</td>\n",
       "      <td>26.43125</td>\n",
       "    </tr>\n",
       "  </tbody>\n",
       "</table>\n",
       "</div>"
      ],
      "text/plain": [
       "   cityid   Villes                                         NomComplet  \\\n",
       "0      22  Avignon  Avignon, Vaucluse, Provence-Alpes-Côte d'Azur,...   \n",
       "1      24    Nimes  Nîmes, Gard, Occitanie, France métropolitaine,...   \n",
       "2      23     Uzes  Uzès, Nîmes, Gard, Occitanie, France métropoli...   \n",
       "\n",
       "   Latitude_Ville  Longitude_Ville  averageTemp  \n",
       "0       43.949249         4.805901     27.23125  \n",
       "1       43.837425         4.360069     26.60875  \n",
       "2       44.012128         4.419672     26.43125  "
      ]
     },
     "execution_count": 5,
     "metadata": {},
     "output_type": "execute_result"
    }
   ],
   "source": [
    "# On crée un dataset avec les 3 villes principales\n",
    "exportDfVilles_averagetemp = pd.read_csv('exportDfVilles' ,nrows=3)\n",
    "exportDfVilles_averagetemp.rename( columns={'Unnamed: 0':'cityid'}, inplace=True)\n",
    "exportDfVilles_averagetemp"
   ]
  },
  {
   "cell_type": "code",
   "execution_count": 6,
   "metadata": {},
   "outputs": [
    {
     "data": {
      "text/html": [
       "<div>\n",
       "<style scoped>\n",
       "    .dataframe tbody tr th:only-of-type {\n",
       "        vertical-align: middle;\n",
       "    }\n",
       "\n",
       "    .dataframe tbody tr th {\n",
       "        vertical-align: top;\n",
       "    }\n",
       "\n",
       "    .dataframe thead th {\n",
       "        text-align: right;\n",
       "    }\n",
       "</style>\n",
       "<table border=\"1\" class=\"dataframe\">\n",
       "  <thead>\n",
       "    <tr style=\"text-align: right;\">\n",
       "      <th></th>\n",
       "      <th>cityid</th>\n",
       "      <th>hotel_id</th>\n",
       "      <th>cityName</th>\n",
       "      <th>hotelName</th>\n",
       "      <th>latitude_hotel</th>\n",
       "      <th>longitude_hotel</th>\n",
       "      <th>URL</th>\n",
       "      <th>score</th>\n",
       "      <th>description</th>\n",
       "    </tr>\n",
       "  </thead>\n",
       "  <tbody>\n",
       "    <tr>\n",
       "      <th>0</th>\n",
       "      <td>22</td>\n",
       "      <td>0</td>\n",
       "      <td>Avignon</td>\n",
       "      <td>Autour Du Petit Paradis</td>\n",
       "      <td>43.9462327337098</td>\n",
       "      <td>4.81007046997547</td>\n",
       "      <td>https://www.booking.com\\n/hotel/fr/autour-du-p...</td>\n",
       "      <td>8.3</td>\n",
       "      <td>Situé au cœur d'Avignon, l'établissement Autou...</td>\n",
       "    </tr>\n",
       "    <tr>\n",
       "      <th>1</th>\n",
       "      <td>22</td>\n",
       "      <td>1</td>\n",
       "      <td>Avignon</td>\n",
       "      <td>Aux Augustins</td>\n",
       "      <td>43.9500576272619</td>\n",
       "      <td>4.8132187128067</td>\n",
       "      <td>https://www.booking.com\\n/hotel/fr/aux-augusti...</td>\n",
       "      <td>8.7</td>\n",
       "      <td>Situé dans le centre historique d'Avignon, l'é...</td>\n",
       "    </tr>\n",
       "    <tr>\n",
       "      <th>2</th>\n",
       "      <td>22</td>\n",
       "      <td>2</td>\n",
       "      <td>Avignon</td>\n",
       "      <td>A l'ombre du Palais</td>\n",
       "      <td>43.951729</td>\n",
       "      <td>4.810339</td>\n",
       "      <td>https://www.booking.com\\n/hotel/fr/a-l-39-ombr...</td>\n",
       "      <td>8.4</td>\n",
       "      <td>Situé à 500 mètres du palais des Papes et à 10...</td>\n",
       "    </tr>\n",
       "    <tr>\n",
       "      <th>3</th>\n",
       "      <td>22</td>\n",
       "      <td>3</td>\n",
       "      <td>Avignon</td>\n",
       "      <td>Hôtel Le Bristol</td>\n",
       "      <td>43.9440321278147</td>\n",
       "      <td>4.80533167719841</td>\n",
       "      <td>https://www.booking.com\\n/hotel/fr/hotel-brist...</td>\n",
       "      <td>8.1</td>\n",
       "      <td>Idéalement situé à l’intérieur des remparts du...</td>\n",
       "    </tr>\n",
       "    <tr>\n",
       "      <th>4</th>\n",
       "      <td>22</td>\n",
       "      <td>4</td>\n",
       "      <td>Avignon</td>\n",
       "      <td>hotelF1 Avignon Centre Courtine gare TGV</td>\n",
       "      <td>43.929032</td>\n",
       "      <td>4.788189</td>\n",
       "      <td>https://www.booking.com\\n/hotel/fr/hotelf1-avi...</td>\n",
       "      <td>6.8</td>\n",
       "      <td>L'hotelF1 Avignon Centre Courtine gare TGV se ...</td>\n",
       "    </tr>\n",
       "    <tr>\n",
       "      <th>...</th>\n",
       "      <td>...</td>\n",
       "      <td>...</td>\n",
       "      <td>...</td>\n",
       "      <td>...</td>\n",
       "      <td>...</td>\n",
       "      <td>...</td>\n",
       "      <td>...</td>\n",
       "      <td>...</td>\n",
       "      <td>...</td>\n",
       "    </tr>\n",
       "    <tr>\n",
       "      <th>83</th>\n",
       "      <td>23</td>\n",
       "      <td>83</td>\n",
       "      <td>Uzes</td>\n",
       "      <td>Calme et Charmant Studio à deux pas du centre ...</td>\n",
       "      <td>44.00968</td>\n",
       "      <td>4.4163925</td>\n",
       "      <td>https://www.booking.com\\n/hotel/fr/calme-et-ch...</td>\n",
       "      <td>9.0</td>\n",
       "      <td>Doté d'une connexion Wi-Fi gratuite et offrant...</td>\n",
       "    </tr>\n",
       "    <tr>\n",
       "      <th>85</th>\n",
       "      <td>23</td>\n",
       "      <td>85</td>\n",
       "      <td>Uzes</td>\n",
       "      <td>La Maisonnette romantique</td>\n",
       "      <td>44.010751722279</td>\n",
       "      <td>4.41664519384835</td>\n",
       "      <td>https://www.booking.com\\n/hotel/fr/la-maisonne...</td>\n",
       "      <td>8.3</td>\n",
       "      <td>Situé à Uzès, dans le Languedoc-Roussillon, l'...</td>\n",
       "    </tr>\n",
       "    <tr>\n",
       "      <th>86</th>\n",
       "      <td>23</td>\n",
       "      <td>86</td>\n",
       "      <td>Uzes</td>\n",
       "      <td>Les toîts d'Uzès</td>\n",
       "      <td>44.0131999975249</td>\n",
       "      <td>4.41806849265981</td>\n",
       "      <td>https://www.booking.com\\n/hotel/fr/les-toits-d...</td>\n",
       "      <td>8.5</td>\n",
       "      <td>Offrant une vue sur la ville, l'établissement ...</td>\n",
       "    </tr>\n",
       "    <tr>\n",
       "      <th>88</th>\n",
       "      <td>23</td>\n",
       "      <td>88</td>\n",
       "      <td>Uzes</td>\n",
       "      <td>les bignones</td>\n",
       "      <td>44.0143457130385</td>\n",
       "      <td>4.42268847778905</td>\n",
       "      <td>https://www.booking.com\\n/hotel/fr/les-bignone...</td>\n",
       "      <td>8.9</td>\n",
       "      <td>Dotée d'une connexion Wi-Fi gratuite, la maiso...</td>\n",
       "    </tr>\n",
       "    <tr>\n",
       "      <th>89</th>\n",
       "      <td>23</td>\n",
       "      <td>89</td>\n",
       "      <td>Uzes</td>\n",
       "      <td>Maison Theodorit</td>\n",
       "      <td>44.0118774</td>\n",
       "      <td>4.4213456</td>\n",
       "      <td>https://www.booking.com\\n/hotel/fr/maison-theo...</td>\n",
       "      <td>9.7</td>\n",
       "      <td>Située à Uzès, en Occitanie, la Maison Theodor...</td>\n",
       "    </tr>\n",
       "  </tbody>\n",
       "</table>\n",
       "<p>579 rows × 9 columns</p>\n",
       "</div>"
      ],
      "text/plain": [
       "   cityid hotel_id cityName  \\\n",
       "0      22        0  Avignon   \n",
       "1      22        1  Avignon   \n",
       "2      22        2  Avignon   \n",
       "3      22        3  Avignon   \n",
       "4      22        4  Avignon   \n",
       "..    ...      ...      ...   \n",
       "83     23       83     Uzes   \n",
       "85     23       85     Uzes   \n",
       "86     23       86     Uzes   \n",
       "88     23       88     Uzes   \n",
       "89     23       89     Uzes   \n",
       "\n",
       "                                            hotelName    latitude_hotel  \\\n",
       "0                             Autour Du Petit Paradis  43.9462327337098   \n",
       "1                                       Aux Augustins  43.9500576272619   \n",
       "2                                 A l'ombre du Palais         43.951729   \n",
       "3                                    Hôtel Le Bristol  43.9440321278147   \n",
       "4            hotelF1 Avignon Centre Courtine gare TGV         43.929032   \n",
       "..                                                ...               ...   \n",
       "83  Calme et Charmant Studio à deux pas du centre ...          44.00968   \n",
       "85                          La Maisonnette romantique   44.010751722279   \n",
       "86                                   Les toîts d'Uzès  44.0131999975249   \n",
       "88                                       les bignones  44.0143457130385   \n",
       "89                                   Maison Theodorit        44.0118774   \n",
       "\n",
       "     longitude_hotel                                                URL  \\\n",
       "0   4.81007046997547  https://www.booking.com\\n/hotel/fr/autour-du-p...   \n",
       "1    4.8132187128067  https://www.booking.com\\n/hotel/fr/aux-augusti...   \n",
       "2           4.810339  https://www.booking.com\\n/hotel/fr/a-l-39-ombr...   \n",
       "3   4.80533167719841  https://www.booking.com\\n/hotel/fr/hotel-brist...   \n",
       "4           4.788189  https://www.booking.com\\n/hotel/fr/hotelf1-avi...   \n",
       "..               ...                                                ...   \n",
       "83         4.4163925  https://www.booking.com\\n/hotel/fr/calme-et-ch...   \n",
       "85  4.41664519384835  https://www.booking.com\\n/hotel/fr/la-maisonne...   \n",
       "86  4.41806849265981  https://www.booking.com\\n/hotel/fr/les-toits-d...   \n",
       "88  4.42268847778905  https://www.booking.com\\n/hotel/fr/les-bignone...   \n",
       "89         4.4213456  https://www.booking.com\\n/hotel/fr/maison-theo...   \n",
       "\n",
       "    score                                        description  \n",
       "0    8.3   Situé au cœur d'Avignon, l'établissement Autou...  \n",
       "1    8.7   Situé dans le centre historique d'Avignon, l'é...  \n",
       "2    8.4   Situé à 500 mètres du palais des Papes et à 10...  \n",
       "3    8.1   Idéalement situé à l’intérieur des remparts du...  \n",
       "4    6.8   L'hotelF1 Avignon Centre Courtine gare TGV se ...  \n",
       "..    ...                                                ...  \n",
       "83   9.0   Doté d'une connexion Wi-Fi gratuite et offrant...  \n",
       "85   8.3   Situé à Uzès, dans le Languedoc-Roussillon, l'...  \n",
       "86   8.5   Offrant une vue sur la ville, l'établissement ...  \n",
       "88   8.9   Dotée d'une connexion Wi-Fi gratuite, la maiso...  \n",
       "89   9.7   Située à Uzès, en Occitanie, la Maison Theodor...  \n",
       "\n",
       "[579 rows x 9 columns]"
      ]
     },
     "execution_count": 6,
     "metadata": {},
     "output_type": "execute_result"
    }
   ],
   "source": [
    "for city in exportDfVilles_averagetemp['Villes']:\n",
    "    \n",
    "    # On loop sur la colonne ville du df\n",
    "    city_name = city\n",
    "    city_id = exportDfVilles_averagetemp.loc[exportDfVilles_averagetemp[\"Villes\"] == city,\"cityid\"].values[0]    \n",
    "\n",
    "    # On va chercher le JSON susnommé\n",
    "    path = \"results/\" + city_name +'_hotel_booking.json'\n",
    "    temp = pd.read_json(str(path))\n",
    "    temp = temp.reset_index().rename({'index': 'hotel_id'}, axis = 1)\n",
    "    temp.loc[:, \"cityid\"] = city_id\n",
    "    \n",
    "    #temp.loc[:, \"Villes\"] = city_name\n",
    "    #temp.loc[:, \"city_id\"] = city_id\n",
    "\n",
    "    # On clean les données qui contiennent le \"\"\\n\"\n",
    "    temp['description'] = temp['description'].apply(lambda x : x.replace('\\n',''))\n",
    "    temp['hotelName'] = temp['hotelName'].apply(lambda x : x.replace('\\n',''))\n",
    "\n",
    "    # On modifie les decimales\n",
    "    temp['score'] = temp['score'].str.replace(',','.')\n",
    "\n",
    "    # On sépare la latitude de la longitude dans la coordonnée GPS en une liste de deux.\n",
    "    temp.loc[:, \"lat&lon_hotel\"] = temp[\"lat&lon_hotel\"].str.split(',')\n",
    "\n",
    "    # On sélectionne la première colonne de la liste pour en faire une colonne latitude à part entière dans le DF.\n",
    "    temp.loc[:, \"latitude_hotel\"] = temp[\"lat&lon_hotel\"].apply(lambda x : x[1])\n",
    "\n",
    "    # Idem pour la latitude.\n",
    "    temp.loc[:, \"longitude_hotel\"] = temp[\"lat&lon_hotel\"].apply(lambda x : x[0])\n",
    "\n",
    "    temp = temp.drop('lat&lon_hotel', axis = 1)\n",
    "\n",
    "    df_top_cities_hotels = df_top_cities_hotels.append(temp)\n",
    "    \n",
    "    # On doit supprimer les lignes avec un nan dans la colonne score pour que la visualization fonctionne\n",
    "    df_top_cities_hotels = df_top_cities_hotels.dropna(subset=['score'])\n",
    "\n",
    "df_top_cities_hotels"
   ]
  },
  {
   "cell_type": "code",
   "execution_count": 7,
   "metadata": {},
   "outputs": [],
   "source": [
    "#Change type  \n",
    "df_top_cities_hotels[\"latitude_hotel\"] = df_top_cities_hotels[\"latitude_hotel\"].astype(float)\n",
    "df_top_cities_hotels[\"longitude_hotel\"] = df_top_cities_hotels[\"longitude_hotel\"].astype(float)\n",
    "df_top_cities_hotels[\"score\"] = df_top_cities_hotels[\"score\"].astype(float)"
   ]
  },
  {
   "cell_type": "code",
   "execution_count": 8,
   "metadata": {},
   "outputs": [],
   "source": [
    "#Saving the weather information in a CSV file\n",
    "df_top_cities_hotels.to_csv('results/DF_Hotels')"
   ]
  },
  {
   "cell_type": "code",
   "execution_count": 13,
   "metadata": {},
   "outputs": [
    {
     "data": {
      "application/vnd.plotly.v1+json": {
       "config": {
        "plotlyServerURL": "https://plot.ly"
       },
       "data": [
        {
         "hovertemplate": "averageTemp=%{marker.color}<br>Latitude_Ville=%{lat}<br>Longitude_Ville=%{lon}<extra></extra>",
         "lat": [
          43.9492493,
          43.8374249,
          44.012127899999996
         ],
         "legendgroup": "",
         "lon": [
          4.8059012,
          4.3600687,
          4.4196718
         ],
         "marker": {
          "color": [
           27.231250000000006,
           26.60875,
           26.43125
          ],
          "coloraxis": "coloraxis",
          "size": [
           27.231250000000006,
           26.60875,
           26.43125
          ],
          "sizemode": "area",
          "sizeref": 0.06807812500000002
         },
         "mode": "markers",
         "name": "",
         "showlegend": false,
         "subplot": "mapbox",
         "type": "scattermapbox"
        }
       ],
       "layout": {
        "autosize": true,
        "coloraxis": {
         "colorbar": {
          "title": {
           "text": "averageTemp"
          }
         },
         "colorscale": [
          [
           0,
           "#0d0887"
          ],
          [
           0.1111111111111111,
           "#46039f"
          ],
          [
           0.2222222222222222,
           "#7201a8"
          ],
          [
           0.3333333333333333,
           "#9c179e"
          ],
          [
           0.4444444444444444,
           "#bd3786"
          ],
          [
           0.5555555555555556,
           "#d8576b"
          ],
          [
           0.6666666666666666,
           "#ed7953"
          ],
          [
           0.7777777777777778,
           "#fb9f3a"
          ],
          [
           0.8888888888888888,
           "#fdca26"
          ],
          [
           1,
           "#f0f921"
          ]
         ]
        },
        "legend": {
         "itemsizing": "constant",
         "tracegroupgap": 0
        },
        "mapbox": {
         "center": {
          "lat": 43.93293403333333,
          "lon": 4.528547233333334
         },
         "domain": {
          "x": [
           0,
           1
          ],
          "y": [
           0,
           1
          ]
         },
         "style": "carto-positron",
         "zoom": 8
        },
        "template": {
         "data": {
          "bar": [
           {
            "error_x": {
             "color": "#2a3f5f"
            },
            "error_y": {
             "color": "#2a3f5f"
            },
            "marker": {
             "line": {
              "color": "#E5ECF6",
              "width": 0.5
             },
             "pattern": {
              "fillmode": "overlay",
              "size": 10,
              "solidity": 0.2
             }
            },
            "type": "bar"
           }
          ],
          "barpolar": [
           {
            "marker": {
             "line": {
              "color": "#E5ECF6",
              "width": 0.5
             },
             "pattern": {
              "fillmode": "overlay",
              "size": 10,
              "solidity": 0.2
             }
            },
            "type": "barpolar"
           }
          ],
          "carpet": [
           {
            "aaxis": {
             "endlinecolor": "#2a3f5f",
             "gridcolor": "white",
             "linecolor": "white",
             "minorgridcolor": "white",
             "startlinecolor": "#2a3f5f"
            },
            "baxis": {
             "endlinecolor": "#2a3f5f",
             "gridcolor": "white",
             "linecolor": "white",
             "minorgridcolor": "white",
             "startlinecolor": "#2a3f5f"
            },
            "type": "carpet"
           }
          ],
          "choropleth": [
           {
            "colorbar": {
             "outlinewidth": 0,
             "ticks": ""
            },
            "type": "choropleth"
           }
          ],
          "contour": [
           {
            "colorbar": {
             "outlinewidth": 0,
             "ticks": ""
            },
            "colorscale": [
             [
              0,
              "#0d0887"
             ],
             [
              0.1111111111111111,
              "#46039f"
             ],
             [
              0.2222222222222222,
              "#7201a8"
             ],
             [
              0.3333333333333333,
              "#9c179e"
             ],
             [
              0.4444444444444444,
              "#bd3786"
             ],
             [
              0.5555555555555556,
              "#d8576b"
             ],
             [
              0.6666666666666666,
              "#ed7953"
             ],
             [
              0.7777777777777778,
              "#fb9f3a"
             ],
             [
              0.8888888888888888,
              "#fdca26"
             ],
             [
              1,
              "#f0f921"
             ]
            ],
            "type": "contour"
           }
          ],
          "contourcarpet": [
           {
            "colorbar": {
             "outlinewidth": 0,
             "ticks": ""
            },
            "type": "contourcarpet"
           }
          ],
          "heatmap": [
           {
            "colorbar": {
             "outlinewidth": 0,
             "ticks": ""
            },
            "colorscale": [
             [
              0,
              "#0d0887"
             ],
             [
              0.1111111111111111,
              "#46039f"
             ],
             [
              0.2222222222222222,
              "#7201a8"
             ],
             [
              0.3333333333333333,
              "#9c179e"
             ],
             [
              0.4444444444444444,
              "#bd3786"
             ],
             [
              0.5555555555555556,
              "#d8576b"
             ],
             [
              0.6666666666666666,
              "#ed7953"
             ],
             [
              0.7777777777777778,
              "#fb9f3a"
             ],
             [
              0.8888888888888888,
              "#fdca26"
             ],
             [
              1,
              "#f0f921"
             ]
            ],
            "type": "heatmap"
           }
          ],
          "heatmapgl": [
           {
            "colorbar": {
             "outlinewidth": 0,
             "ticks": ""
            },
            "colorscale": [
             [
              0,
              "#0d0887"
             ],
             [
              0.1111111111111111,
              "#46039f"
             ],
             [
              0.2222222222222222,
              "#7201a8"
             ],
             [
              0.3333333333333333,
              "#9c179e"
             ],
             [
              0.4444444444444444,
              "#bd3786"
             ],
             [
              0.5555555555555556,
              "#d8576b"
             ],
             [
              0.6666666666666666,
              "#ed7953"
             ],
             [
              0.7777777777777778,
              "#fb9f3a"
             ],
             [
              0.8888888888888888,
              "#fdca26"
             ],
             [
              1,
              "#f0f921"
             ]
            ],
            "type": "heatmapgl"
           }
          ],
          "histogram": [
           {
            "marker": {
             "pattern": {
              "fillmode": "overlay",
              "size": 10,
              "solidity": 0.2
             }
            },
            "type": "histogram"
           }
          ],
          "histogram2d": [
           {
            "colorbar": {
             "outlinewidth": 0,
             "ticks": ""
            },
            "colorscale": [
             [
              0,
              "#0d0887"
             ],
             [
              0.1111111111111111,
              "#46039f"
             ],
             [
              0.2222222222222222,
              "#7201a8"
             ],
             [
              0.3333333333333333,
              "#9c179e"
             ],
             [
              0.4444444444444444,
              "#bd3786"
             ],
             [
              0.5555555555555556,
              "#d8576b"
             ],
             [
              0.6666666666666666,
              "#ed7953"
             ],
             [
              0.7777777777777778,
              "#fb9f3a"
             ],
             [
              0.8888888888888888,
              "#fdca26"
             ],
             [
              1,
              "#f0f921"
             ]
            ],
            "type": "histogram2d"
           }
          ],
          "histogram2dcontour": [
           {
            "colorbar": {
             "outlinewidth": 0,
             "ticks": ""
            },
            "colorscale": [
             [
              0,
              "#0d0887"
             ],
             [
              0.1111111111111111,
              "#46039f"
             ],
             [
              0.2222222222222222,
              "#7201a8"
             ],
             [
              0.3333333333333333,
              "#9c179e"
             ],
             [
              0.4444444444444444,
              "#bd3786"
             ],
             [
              0.5555555555555556,
              "#d8576b"
             ],
             [
              0.6666666666666666,
              "#ed7953"
             ],
             [
              0.7777777777777778,
              "#fb9f3a"
             ],
             [
              0.8888888888888888,
              "#fdca26"
             ],
             [
              1,
              "#f0f921"
             ]
            ],
            "type": "histogram2dcontour"
           }
          ],
          "mesh3d": [
           {
            "colorbar": {
             "outlinewidth": 0,
             "ticks": ""
            },
            "type": "mesh3d"
           }
          ],
          "parcoords": [
           {
            "line": {
             "colorbar": {
              "outlinewidth": 0,
              "ticks": ""
             }
            },
            "type": "parcoords"
           }
          ],
          "pie": [
           {
            "automargin": true,
            "type": "pie"
           }
          ],
          "scatter": [
           {
            "marker": {
             "colorbar": {
              "outlinewidth": 0,
              "ticks": ""
             }
            },
            "type": "scatter"
           }
          ],
          "scatter3d": [
           {
            "line": {
             "colorbar": {
              "outlinewidth": 0,
              "ticks": ""
             }
            },
            "marker": {
             "colorbar": {
              "outlinewidth": 0,
              "ticks": ""
             }
            },
            "type": "scatter3d"
           }
          ],
          "scattercarpet": [
           {
            "marker": {
             "colorbar": {
              "outlinewidth": 0,
              "ticks": ""
             }
            },
            "type": "scattercarpet"
           }
          ],
          "scattergeo": [
           {
            "marker": {
             "colorbar": {
              "outlinewidth": 0,
              "ticks": ""
             }
            },
            "type": "scattergeo"
           }
          ],
          "scattergl": [
           {
            "marker": {
             "colorbar": {
              "outlinewidth": 0,
              "ticks": ""
             }
            },
            "type": "scattergl"
           }
          ],
          "scattermapbox": [
           {
            "marker": {
             "colorbar": {
              "outlinewidth": 0,
              "ticks": ""
             }
            },
            "type": "scattermapbox"
           }
          ],
          "scatterpolar": [
           {
            "marker": {
             "colorbar": {
              "outlinewidth": 0,
              "ticks": ""
             }
            },
            "type": "scatterpolar"
           }
          ],
          "scatterpolargl": [
           {
            "marker": {
             "colorbar": {
              "outlinewidth": 0,
              "ticks": ""
             }
            },
            "type": "scatterpolargl"
           }
          ],
          "scatterternary": [
           {
            "marker": {
             "colorbar": {
              "outlinewidth": 0,
              "ticks": ""
             }
            },
            "type": "scatterternary"
           }
          ],
          "surface": [
           {
            "colorbar": {
             "outlinewidth": 0,
             "ticks": ""
            },
            "colorscale": [
             [
              0,
              "#0d0887"
             ],
             [
              0.1111111111111111,
              "#46039f"
             ],
             [
              0.2222222222222222,
              "#7201a8"
             ],
             [
              0.3333333333333333,
              "#9c179e"
             ],
             [
              0.4444444444444444,
              "#bd3786"
             ],
             [
              0.5555555555555556,
              "#d8576b"
             ],
             [
              0.6666666666666666,
              "#ed7953"
             ],
             [
              0.7777777777777778,
              "#fb9f3a"
             ],
             [
              0.8888888888888888,
              "#fdca26"
             ],
             [
              1,
              "#f0f921"
             ]
            ],
            "type": "surface"
           }
          ],
          "table": [
           {
            "cells": {
             "fill": {
              "color": "#EBF0F8"
             },
             "line": {
              "color": "white"
             }
            },
            "header": {
             "fill": {
              "color": "#C8D4E3"
             },
             "line": {
              "color": "white"
             }
            },
            "type": "table"
           }
          ]
         },
         "layout": {
          "annotationdefaults": {
           "arrowcolor": "#2a3f5f",
           "arrowhead": 0,
           "arrowwidth": 1
          },
          "autotypenumbers": "strict",
          "coloraxis": {
           "colorbar": {
            "outlinewidth": 0,
            "ticks": ""
           }
          },
          "colorscale": {
           "diverging": [
            [
             0,
             "#8e0152"
            ],
            [
             0.1,
             "#c51b7d"
            ],
            [
             0.2,
             "#de77ae"
            ],
            [
             0.3,
             "#f1b6da"
            ],
            [
             0.4,
             "#fde0ef"
            ],
            [
             0.5,
             "#f7f7f7"
            ],
            [
             0.6,
             "#e6f5d0"
            ],
            [
             0.7,
             "#b8e186"
            ],
            [
             0.8,
             "#7fbc41"
            ],
            [
             0.9,
             "#4d9221"
            ],
            [
             1,
             "#276419"
            ]
           ],
           "sequential": [
            [
             0,
             "#0d0887"
            ],
            [
             0.1111111111111111,
             "#46039f"
            ],
            [
             0.2222222222222222,
             "#7201a8"
            ],
            [
             0.3333333333333333,
             "#9c179e"
            ],
            [
             0.4444444444444444,
             "#bd3786"
            ],
            [
             0.5555555555555556,
             "#d8576b"
            ],
            [
             0.6666666666666666,
             "#ed7953"
            ],
            [
             0.7777777777777778,
             "#fb9f3a"
            ],
            [
             0.8888888888888888,
             "#fdca26"
            ],
            [
             1,
             "#f0f921"
            ]
           ],
           "sequentialminus": [
            [
             0,
             "#0d0887"
            ],
            [
             0.1111111111111111,
             "#46039f"
            ],
            [
             0.2222222222222222,
             "#7201a8"
            ],
            [
             0.3333333333333333,
             "#9c179e"
            ],
            [
             0.4444444444444444,
             "#bd3786"
            ],
            [
             0.5555555555555556,
             "#d8576b"
            ],
            [
             0.6666666666666666,
             "#ed7953"
            ],
            [
             0.7777777777777778,
             "#fb9f3a"
            ],
            [
             0.8888888888888888,
             "#fdca26"
            ],
            [
             1,
             "#f0f921"
            ]
           ]
          },
          "colorway": [
           "#636efa",
           "#EF553B",
           "#00cc96",
           "#ab63fa",
           "#FFA15A",
           "#19d3f3",
           "#FF6692",
           "#B6E880",
           "#FF97FF",
           "#FECB52"
          ],
          "font": {
           "color": "#2a3f5f"
          },
          "geo": {
           "bgcolor": "white",
           "lakecolor": "white",
           "landcolor": "#E5ECF6",
           "showlakes": true,
           "showland": true,
           "subunitcolor": "white"
          },
          "hoverlabel": {
           "align": "left"
          },
          "hovermode": "closest",
          "mapbox": {
           "style": "light"
          },
          "paper_bgcolor": "white",
          "plot_bgcolor": "#E5ECF6",
          "polar": {
           "angularaxis": {
            "gridcolor": "white",
            "linecolor": "white",
            "ticks": ""
           },
           "bgcolor": "#E5ECF6",
           "radialaxis": {
            "gridcolor": "white",
            "linecolor": "white",
            "ticks": ""
           }
          },
          "scene": {
           "xaxis": {
            "backgroundcolor": "#E5ECF6",
            "gridcolor": "white",
            "gridwidth": 2,
            "linecolor": "white",
            "showbackground": true,
            "ticks": "",
            "zerolinecolor": "white"
           },
           "yaxis": {
            "backgroundcolor": "#E5ECF6",
            "gridcolor": "white",
            "gridwidth": 2,
            "linecolor": "white",
            "showbackground": true,
            "ticks": "",
            "zerolinecolor": "white"
           },
           "zaxis": {
            "backgroundcolor": "#E5ECF6",
            "gridcolor": "white",
            "gridwidth": 2,
            "linecolor": "white",
            "showbackground": true,
            "ticks": "",
            "zerolinecolor": "white"
           }
          },
          "shapedefaults": {
           "line": {
            "color": "#2a3f5f"
           }
          },
          "ternary": {
           "aaxis": {
            "gridcolor": "white",
            "linecolor": "white",
            "ticks": ""
           },
           "baxis": {
            "gridcolor": "white",
            "linecolor": "white",
            "ticks": ""
           },
           "bgcolor": "#E5ECF6",
           "caxis": {
            "gridcolor": "white",
            "linecolor": "white",
            "ticks": ""
           }
          },
          "title": {
           "x": 0.05
          },
          "xaxis": {
           "automargin": true,
           "gridcolor": "white",
           "linecolor": "white",
           "ticks": "",
           "title": {
            "standoff": 15
           },
           "zerolinecolor": "white",
           "zerolinewidth": 2
          },
          "yaxis": {
           "automargin": true,
           "gridcolor": "white",
           "linecolor": "white",
           "ticks": "",
           "title": {
            "standoff": 15
           },
           "zerolinecolor": "white",
           "zerolinewidth": 2
          }
         }
        },
        "title": {
         "text": "Top 3 cities"
        }
       }
      },
      "image/png": "[encoded data removed]",
      "text/html": [
       "<div>                            <div id=\"eb55790c-34b1-49e3-9fe1-2fe872415ed7\" class=\"plotly-graph-div\" style=\"height:525px; width:100%;\"></div>            <script type=\"text/javascript\">                require([\"plotly\"], function(Plotly) {                    window.PLOTLYENV=window.PLOTLYENV || {};                                    if (document.getElementById(\"eb55790c-34b1-49e3-9fe1-2fe872415ed7\")) {                    Plotly.newPlot(                        \"eb55790c-34b1-49e3-9fe1-2fe872415ed7\",                        [{\"hovertemplate\":\"averageTemp=%{marker.color}<br>Latitude_Ville=%{lat}<br>Longitude_Ville=%{lon}<extra></extra>\",\"lat\":[43.9492493,43.8374249,44.012127899999996],\"legendgroup\":\"\",\"lon\":[4.8059012,4.3600687,4.4196718],\"marker\":{\"color\":[27.231250000000006,26.60875,26.43125],\"coloraxis\":\"coloraxis\",\"size\":[27.231250000000006,26.60875,26.43125],\"sizemode\":\"area\",\"sizeref\":0.06807812500000002},\"mode\":\"markers\",\"name\":\"\",\"showlegend\":false,\"subplot\":\"mapbox\",\"type\":\"scattermapbox\"}],                        {\"coloraxis\":{\"colorbar\":{\"title\":{\"text\":\"averageTemp\"}},\"colorscale\":[[0.0,\"#0d0887\"],[0.1111111111111111,\"#46039f\"],[0.2222222222222222,\"#7201a8\"],[0.3333333333333333,\"#9c179e\"],[0.4444444444444444,\"#bd3786\"],[0.5555555555555556,\"#d8576b\"],[0.6666666666666666,\"#ed7953\"],[0.7777777777777778,\"#fb9f3a\"],[0.8888888888888888,\"#fdca26\"],[1.0,\"#f0f921\"]]},\"legend\":{\"itemsizing\":\"constant\",\"tracegroupgap\":0},\"mapbox\":{\"center\":{\"lat\":43.93293403333333,\"lon\":4.528547233333334},\"domain\":{\"x\":[0.0,1.0],\"y\":[0.0,1.0]},\"style\":\"carto-positron\",\"zoom\":8},\"template\":{\"data\":{\"bar\":[{\"error_x\":{\"color\":\"#2a3f5f\"},\"error_y\":{\"color\":\"#2a3f5f\"},\"marker\":{\"line\":{\"color\":\"#E5ECF6\",\"width\":0.5},\"pattern\":{\"fillmode\":\"overlay\",\"size\":10,\"solidity\":0.2}},\"type\":\"bar\"}],\"barpolar\":[{\"marker\":{\"line\":{\"color\":\"#E5ECF6\",\"width\":0.5},\"pattern\":{\"fillmode\":\"overlay\",\"size\":10,\"solidity\":0.2}},\"type\":\"barpolar\"}],\"carpet\":[{\"aaxis\":{\"endlinecolor\":\"#2a3f5f\",\"gridcolor\":\"white\",\"linecolor\":\"white\",\"minorgridcolor\":\"white\",\"startlinecolor\":\"#2a3f5f\"},\"baxis\":{\"endlinecolor\":\"#2a3f5f\",\"gridcolor\":\"white\",\"linecolor\":\"white\",\"minorgridcolor\":\"white\",\"startlinecolor\":\"#2a3f5f\"},\"type\":\"carpet\"}],\"choropleth\":[{\"colorbar\":{\"outlinewidth\":0,\"ticks\":\"\"},\"type\":\"choropleth\"}],\"contour\":[{\"colorbar\":{\"outlinewidth\":0,\"ticks\":\"\"},\"colorscale\":[[0.0,\"#0d0887\"],[0.1111111111111111,\"#46039f\"],[0.2222222222222222,\"#7201a8\"],[0.3333333333333333,\"#9c179e\"],[0.4444444444444444,\"#bd3786\"],[0.5555555555555556,\"#d8576b\"],[0.6666666666666666,\"#ed7953\"],[0.7777777777777778,\"#fb9f3a\"],[0.8888888888888888,\"#fdca26\"],[1.0,\"#f0f921\"]],\"type\":\"contour\"}],\"contourcarpet\":[{\"colorbar\":{\"outlinewidth\":0,\"ticks\":\"\"},\"type\":\"contourcarpet\"}],\"heatmap\":[{\"colorbar\":{\"outlinewidth\":0,\"ticks\":\"\"},\"colorscale\":[[0.0,\"#0d0887\"],[0.1111111111111111,\"#46039f\"],[0.2222222222222222,\"#7201a8\"],[0.3333333333333333,\"#9c179e\"],[0.4444444444444444,\"#bd3786\"],[0.5555555555555556,\"#d8576b\"],[0.6666666666666666,\"#ed7953\"],[0.7777777777777778,\"#fb9f3a\"],[0.8888888888888888,\"#fdca26\"],[1.0,\"#f0f921\"]],\"type\":\"heatmap\"}],\"heatmapgl\":[{\"colorbar\":{\"outlinewidth\":0,\"ticks\":\"\"},\"colorscale\":[[0.0,\"#0d0887\"],[0.1111111111111111,\"#46039f\"],[0.2222222222222222,\"#7201a8\"],[0.3333333333333333,\"#9c179e\"],[0.4444444444444444,\"#bd3786\"],[0.5555555555555556,\"#d8576b\"],[0.6666666666666666,\"#ed7953\"],[0.7777777777777778,\"#fb9f3a\"],[0.8888888888888888,\"#fdca26\"],[1.0,\"#f0f921\"]],\"type\":\"heatmapgl\"}],\"histogram\":[{\"marker\":{\"pattern\":{\"fillmode\":\"overlay\",\"size\":10,\"solidity\":0.2}},\"type\":\"histogram\"}],\"histogram2d\":[{\"colorbar\":{\"outlinewidth\":0,\"ticks\":\"\"},\"colorscale\":[[0.0,\"#0d0887\"],[0.1111111111111111,\"#46039f\"],[0.2222222222222222,\"#7201a8\"],[0.3333333333333333,\"#9c179e\"],[0.4444444444444444,\"#bd3786\"],[0.5555555555555556,\"#d8576b\"],[0.6666666666666666,\"#ed7953\"],[0.7777777777777778,\"#fb9f3a\"],[0.8888888888888888,\"#fdca26\"],[1.0,\"#f0f921\"]],\"type\":\"histogram2d\"}],\"histogram2dcontour\":[{\"colorbar\":{\"outlinewidth\":0,\"ticks\":\"\"},\"colorscale\":[[0.0,\"#0d0887\"],[0.1111111111111111,\"#46039f\"],[0.2222222222222222,\"#7201a8\"],[0.3333333333333333,\"#9c179e\"],[0.4444444444444444,\"#bd3786\"],[0.5555555555555556,\"#d8576b\"],[0.6666666666666666,\"#ed7953\"],[0.7777777777777778,\"#fb9f3a\"],[0.8888888888888888,\"#fdca26\"],[1.0,\"#f0f921\"]],\"type\":\"histogram2dcontour\"}],\"mesh3d\":[{\"colorbar\":{\"outlinewidth\":0,\"ticks\":\"\"},\"type\":\"mesh3d\"}],\"parcoords\":[{\"line\":{\"colorbar\":{\"outlinewidth\":0,\"ticks\":\"\"}},\"type\":\"parcoords\"}],\"pie\":[{\"automargin\":true,\"type\":\"pie\"}],\"scatter\":[{\"marker\":{\"colorbar\":{\"outlinewidth\":0,\"ticks\":\"\"}},\"type\":\"scatter\"}],\"scatter3d\":[{\"line\":{\"colorbar\":{\"outlinewidth\":0,\"ticks\":\"\"}},\"marker\":{\"colorbar\":{\"outlinewidth\":0,\"ticks\":\"\"}},\"type\":\"scatter3d\"}],\"scattercarpet\":[{\"marker\":{\"colorbar\":{\"outlinewidth\":0,\"ticks\":\"\"}},\"type\":\"scattercarpet\"}],\"scattergeo\":[{\"marker\":{\"colorbar\":{\"outlinewidth\":0,\"ticks\":\"\"}},\"type\":\"scattergeo\"}],\"scattergl\":[{\"marker\":{\"colorbar\":{\"outlinewidth\":0,\"ticks\":\"\"}},\"type\":\"scattergl\"}],\"scattermapbox\":[{\"marker\":{\"colorbar\":{\"outlinewidth\":0,\"ticks\":\"\"}},\"type\":\"scattermapbox\"}],\"scatterpolar\":[{\"marker\":{\"colorbar\":{\"outlinewidth\":0,\"ticks\":\"\"}},\"type\":\"scatterpolar\"}],\"scatterpolargl\":[{\"marker\":{\"colorbar\":{\"outlinewidth\":0,\"ticks\":\"\"}},\"type\":\"scatterpolargl\"}],\"scatterternary\":[{\"marker\":{\"colorbar\":{\"outlinewidth\":0,\"ticks\":\"\"}},\"type\":\"scatterternary\"}],\"surface\":[{\"colorbar\":{\"outlinewidth\":0,\"ticks\":\"\"},\"colorscale\":[[0.0,\"#0d0887\"],[0.1111111111111111,\"#46039f\"],[0.2222222222222222,\"#7201a8\"],[0.3333333333333333,\"#9c179e\"],[0.4444444444444444,\"#bd3786\"],[0.5555555555555556,\"#d8576b\"],[0.6666666666666666,\"#ed7953\"],[0.7777777777777778,\"#fb9f3a\"],[0.8888888888888888,\"#fdca26\"],[1.0,\"#f0f921\"]],\"type\":\"surface\"}],\"table\":[{\"cells\":{\"fill\":{\"color\":\"#EBF0F8\"},\"line\":{\"color\":\"white\"}},\"header\":{\"fill\":{\"color\":\"#C8D4E3\"},\"line\":{\"color\":\"white\"}},\"type\":\"table\"}]},\"layout\":{\"annotationdefaults\":{\"arrowcolor\":\"#2a3f5f\",\"arrowhead\":0,\"arrowwidth\":1},\"autotypenumbers\":\"strict\",\"coloraxis\":{\"colorbar\":{\"outlinewidth\":0,\"ticks\":\"\"}},\"colorscale\":{\"diverging\":[[0,\"#8e0152\"],[0.1,\"#c51b7d\"],[0.2,\"#de77ae\"],[0.3,\"#f1b6da\"],[0.4,\"#fde0ef\"],[0.5,\"#f7f7f7\"],[0.6,\"#e6f5d0\"],[0.7,\"#b8e186\"],[0.8,\"#7fbc41\"],[0.9,\"#4d9221\"],[1,\"#276419\"]],\"sequential\":[[0.0,\"#0d0887\"],[0.1111111111111111,\"#46039f\"],[0.2222222222222222,\"#7201a8\"],[0.3333333333333333,\"#9c179e\"],[0.4444444444444444,\"#bd3786\"],[0.5555555555555556,\"#d8576b\"],[0.6666666666666666,\"#ed7953\"],[0.7777777777777778,\"#fb9f3a\"],[0.8888888888888888,\"#fdca26\"],[1.0,\"#f0f921\"]],\"sequentialminus\":[[0.0,\"#0d0887\"],[0.1111111111111111,\"#46039f\"],[0.2222222222222222,\"#7201a8\"],[0.3333333333333333,\"#9c179e\"],[0.4444444444444444,\"#bd3786\"],[0.5555555555555556,\"#d8576b\"],[0.6666666666666666,\"#ed7953\"],[0.7777777777777778,\"#fb9f3a\"],[0.8888888888888888,\"#fdca26\"],[1.0,\"#f0f921\"]]},\"colorway\":[\"#636efa\",\"#EF553B\",\"#00cc96\",\"#ab63fa\",\"#FFA15A\",\"#19d3f3\",\"#FF6692\",\"#B6E880\",\"#FF97FF\",\"#FECB52\"],\"font\":{\"color\":\"#2a3f5f\"},\"geo\":{\"bgcolor\":\"white\",\"lakecolor\":\"white\",\"landcolor\":\"#E5ECF6\",\"showlakes\":true,\"showland\":true,\"subunitcolor\":\"white\"},\"hoverlabel\":{\"align\":\"left\"},\"hovermode\":\"closest\",\"mapbox\":{\"style\":\"light\"},\"paper_bgcolor\":\"white\",\"plot_bgcolor\":\"#E5ECF6\",\"polar\":{\"angularaxis\":{\"gridcolor\":\"white\",\"linecolor\":\"white\",\"ticks\":\"\"},\"bgcolor\":\"#E5ECF6\",\"radialaxis\":{\"gridcolor\":\"white\",\"linecolor\":\"white\",\"ticks\":\"\"}},\"scene\":{\"xaxis\":{\"backgroundcolor\":\"#E5ECF6\",\"gridcolor\":\"white\",\"gridwidth\":2,\"linecolor\":\"white\",\"showbackground\":true,\"ticks\":\"\",\"zerolinecolor\":\"white\"},\"yaxis\":{\"backgroundcolor\":\"#E5ECF6\",\"gridcolor\":\"white\",\"gridwidth\":2,\"linecolor\":\"white\",\"showbackground\":true,\"ticks\":\"\",\"zerolinecolor\":\"white\"},\"zaxis\":{\"backgroundcolor\":\"#E5ECF6\",\"gridcolor\":\"white\",\"gridwidth\":2,\"linecolor\":\"white\",\"showbackground\":true,\"ticks\":\"\",\"zerolinecolor\":\"white\"}},\"shapedefaults\":{\"line\":{\"color\":\"#2a3f5f\"}},\"ternary\":{\"aaxis\":{\"gridcolor\":\"white\",\"linecolor\":\"white\",\"ticks\":\"\"},\"baxis\":{\"gridcolor\":\"white\",\"linecolor\":\"white\",\"ticks\":\"\"},\"bgcolor\":\"#E5ECF6\",\"caxis\":{\"gridcolor\":\"white\",\"linecolor\":\"white\",\"ticks\":\"\"}},\"title\":{\"x\":0.05},\"xaxis\":{\"automargin\":true,\"gridcolor\":\"white\",\"linecolor\":\"white\",\"ticks\":\"\",\"title\":{\"standoff\":15},\"zerolinecolor\":\"white\",\"zerolinewidth\":2},\"yaxis\":{\"automargin\":true,\"gridcolor\":\"white\",\"linecolor\":\"white\",\"ticks\":\"\",\"title\":{\"standoff\":15},\"zerolinecolor\":\"white\",\"zerolinewidth\":2}}},\"title\":{\"text\":\"Top 3 cities\"}},                        {\"responsive\": true}                    ).then(function(){\n",
       "                            \n",
       "var gd = document.getElementById('eb55790c-34b1-49e3-9fe1-2fe872415ed7');\n",
       "var x = new MutationObserver(function (mutations, observer) {{\n",
       "        var display = window.getComputedStyle(gd).display;\n",
       "        if (!display || display === 'none') {{\n",
       "            console.log([gd, 'removed!']);\n",
       "            Plotly.purge(gd);\n",
       "            observer.disconnect();\n",
       "        }}\n",
       "}});\n",
       "\n",
       "// Listen for the removal of the full notebook cells\n",
       "var notebookContainer = gd.closest('#notebook-container');\n",
       "if (notebookContainer) {{\n",
       "    x.observe(notebookContainer, {childList: true});\n",
       "}}\n",
       "\n",
       "// Listen for the clearing of the current output cell\n",
       "var outputEl = gd.closest('.output');\n",
       "if (outputEl) {{\n",
       "    x.observe(outputEl, {childList: true});\n",
       "}}\n",
       "\n",
       "                        })                };                });            </script>        </div>"
      ]
     },
     "metadata": {},
     "output_type": "display_data"
    }
   ],
   "source": [
    "#Creating the map\n",
    "fig2 = px.scatter_mapbox(exportDfVilles_averagetemp, \n",
    "                        lat = \"Latitude_Ville\",\n",
    "                        lon = \"Longitude_Ville\",\n",
    "                        color = \"averageTemp\",\n",
    "                        size = \"averageTemp\",\n",
    "                        mapbox_style = \"carto-positron\",\n",
    "                        title = 'Top 3 cities')\n",
    "fig2.show()"
   ]
  },
  {
   "cell_type": "code",
   "execution_count": 14,
   "metadata": {},
   "outputs": [
    {
     "data": {
      "text/html": [
       "<div>\n",
       "<style scoped>\n",
       "    .dataframe tbody tr th:only-of-type {\n",
       "        vertical-align: middle;\n",
       "    }\n",
       "\n",
       "    .dataframe tbody tr th {\n",
       "        vertical-align: top;\n",
       "    }\n",
       "\n",
       "    .dataframe thead th {\n",
       "        text-align: right;\n",
       "    }\n",
       "</style>\n",
       "<table border=\"1\" class=\"dataframe\">\n",
       "  <thead>\n",
       "    <tr style=\"text-align: right;\">\n",
       "      <th></th>\n",
       "      <th>cityid</th>\n",
       "      <th>hotel_id</th>\n",
       "      <th>cityName</th>\n",
       "      <th>hotelName</th>\n",
       "      <th>latitude_hotel</th>\n",
       "      <th>longitude_hotel</th>\n",
       "      <th>URL</th>\n",
       "      <th>score</th>\n",
       "      <th>description</th>\n",
       "    </tr>\n",
       "  </thead>\n",
       "  <tbody>\n",
       "    <tr>\n",
       "      <th>0</th>\n",
       "      <td>22</td>\n",
       "      <td>0</td>\n",
       "      <td>Avignon</td>\n",
       "      <td>Autour Du Petit Paradis</td>\n",
       "      <td>43.946233</td>\n",
       "      <td>4.810070</td>\n",
       "      <td>https://www.booking.com\\n/hotel/fr/autour-du-p...</td>\n",
       "      <td>8.3</td>\n",
       "      <td>Situé au cœur d'Avignon, l'établissement Autou...</td>\n",
       "    </tr>\n",
       "    <tr>\n",
       "      <th>1</th>\n",
       "      <td>22</td>\n",
       "      <td>1</td>\n",
       "      <td>Avignon</td>\n",
       "      <td>Aux Augustins</td>\n",
       "      <td>43.950058</td>\n",
       "      <td>4.813219</td>\n",
       "      <td>https://www.booking.com\\n/hotel/fr/aux-augusti...</td>\n",
       "      <td>8.7</td>\n",
       "      <td>Situé dans le centre historique d'Avignon, l'é...</td>\n",
       "    </tr>\n",
       "    <tr>\n",
       "      <th>2</th>\n",
       "      <td>22</td>\n",
       "      <td>2</td>\n",
       "      <td>Avignon</td>\n",
       "      <td>A l'ombre du Palais</td>\n",
       "      <td>43.951729</td>\n",
       "      <td>4.810339</td>\n",
       "      <td>https://www.booking.com\\n/hotel/fr/a-l-39-ombr...</td>\n",
       "      <td>8.4</td>\n",
       "      <td>Situé à 500 mètres du palais des Papes et à 10...</td>\n",
       "    </tr>\n",
       "    <tr>\n",
       "      <th>3</th>\n",
       "      <td>22</td>\n",
       "      <td>3</td>\n",
       "      <td>Avignon</td>\n",
       "      <td>Hôtel Le Bristol</td>\n",
       "      <td>43.944032</td>\n",
       "      <td>4.805332</td>\n",
       "      <td>https://www.booking.com\\n/hotel/fr/hotel-brist...</td>\n",
       "      <td>8.1</td>\n",
       "      <td>Idéalement situé à l’intérieur des remparts du...</td>\n",
       "    </tr>\n",
       "    <tr>\n",
       "      <th>4</th>\n",
       "      <td>22</td>\n",
       "      <td>4</td>\n",
       "      <td>Avignon</td>\n",
       "      <td>hotelF1 Avignon Centre Courtine gare TGV</td>\n",
       "      <td>43.929032</td>\n",
       "      <td>4.788189</td>\n",
       "      <td>https://www.booking.com\\n/hotel/fr/hotelf1-avi...</td>\n",
       "      <td>6.8</td>\n",
       "      <td>L'hotelF1 Avignon Centre Courtine gare TGV se ...</td>\n",
       "    </tr>\n",
       "    <tr>\n",
       "      <th>...</th>\n",
       "      <td>...</td>\n",
       "      <td>...</td>\n",
       "      <td>...</td>\n",
       "      <td>...</td>\n",
       "      <td>...</td>\n",
       "      <td>...</td>\n",
       "      <td>...</td>\n",
       "      <td>...</td>\n",
       "      <td>...</td>\n",
       "    </tr>\n",
       "    <tr>\n",
       "      <th>83</th>\n",
       "      <td>23</td>\n",
       "      <td>83</td>\n",
       "      <td>Uzes</td>\n",
       "      <td>Calme et Charmant Studio à deux pas du centre ...</td>\n",
       "      <td>44.009680</td>\n",
       "      <td>4.416392</td>\n",
       "      <td>https://www.booking.com\\n/hotel/fr/calme-et-ch...</td>\n",
       "      <td>9.0</td>\n",
       "      <td>Doté d'une connexion Wi-Fi gratuite et offrant...</td>\n",
       "    </tr>\n",
       "    <tr>\n",
       "      <th>85</th>\n",
       "      <td>23</td>\n",
       "      <td>85</td>\n",
       "      <td>Uzes</td>\n",
       "      <td>La Maisonnette romantique</td>\n",
       "      <td>44.010752</td>\n",
       "      <td>4.416645</td>\n",
       "      <td>https://www.booking.com\\n/hotel/fr/la-maisonne...</td>\n",
       "      <td>8.3</td>\n",
       "      <td>Situé à Uzès, dans le Languedoc-Roussillon, l'...</td>\n",
       "    </tr>\n",
       "    <tr>\n",
       "      <th>86</th>\n",
       "      <td>23</td>\n",
       "      <td>86</td>\n",
       "      <td>Uzes</td>\n",
       "      <td>Les toîts d'Uzès</td>\n",
       "      <td>44.013200</td>\n",
       "      <td>4.418068</td>\n",
       "      <td>https://www.booking.com\\n/hotel/fr/les-toits-d...</td>\n",
       "      <td>8.5</td>\n",
       "      <td>Offrant une vue sur la ville, l'établissement ...</td>\n",
       "    </tr>\n",
       "    <tr>\n",
       "      <th>88</th>\n",
       "      <td>23</td>\n",
       "      <td>88</td>\n",
       "      <td>Uzes</td>\n",
       "      <td>les bignones</td>\n",
       "      <td>44.014346</td>\n",
       "      <td>4.422688</td>\n",
       "      <td>https://www.booking.com\\n/hotel/fr/les-bignone...</td>\n",
       "      <td>8.9</td>\n",
       "      <td>Dotée d'une connexion Wi-Fi gratuite, la maiso...</td>\n",
       "    </tr>\n",
       "    <tr>\n",
       "      <th>89</th>\n",
       "      <td>23</td>\n",
       "      <td>89</td>\n",
       "      <td>Uzes</td>\n",
       "      <td>Maison Theodorit</td>\n",
       "      <td>44.011877</td>\n",
       "      <td>4.421346</td>\n",
       "      <td>https://www.booking.com\\n/hotel/fr/maison-theo...</td>\n",
       "      <td>9.7</td>\n",
       "      <td>Située à Uzès, en Occitanie, la Maison Theodor...</td>\n",
       "    </tr>\n",
       "  </tbody>\n",
       "</table>\n",
       "<p>579 rows × 9 columns</p>\n",
       "</div>"
      ],
      "text/plain": [
       "   cityid hotel_id cityName  \\\n",
       "0      22        0  Avignon   \n",
       "1      22        1  Avignon   \n",
       "2      22        2  Avignon   \n",
       "3      22        3  Avignon   \n",
       "4      22        4  Avignon   \n",
       "..    ...      ...      ...   \n",
       "83     23       83     Uzes   \n",
       "85     23       85     Uzes   \n",
       "86     23       86     Uzes   \n",
       "88     23       88     Uzes   \n",
       "89     23       89     Uzes   \n",
       "\n",
       "                                            hotelName  latitude_hotel  \\\n",
       "0                             Autour Du Petit Paradis       43.946233   \n",
       "1                                       Aux Augustins       43.950058   \n",
       "2                                 A l'ombre du Palais       43.951729   \n",
       "3                                    Hôtel Le Bristol       43.944032   \n",
       "4            hotelF1 Avignon Centre Courtine gare TGV       43.929032   \n",
       "..                                                ...             ...   \n",
       "83  Calme et Charmant Studio à deux pas du centre ...       44.009680   \n",
       "85                          La Maisonnette romantique       44.010752   \n",
       "86                                   Les toîts d'Uzès       44.013200   \n",
       "88                                       les bignones       44.014346   \n",
       "89                                   Maison Theodorit       44.011877   \n",
       "\n",
       "    longitude_hotel                                                URL  score  \\\n",
       "0          4.810070  https://www.booking.com\\n/hotel/fr/autour-du-p...    8.3   \n",
       "1          4.813219  https://www.booking.com\\n/hotel/fr/aux-augusti...    8.7   \n",
       "2          4.810339  https://www.booking.com\\n/hotel/fr/a-l-39-ombr...    8.4   \n",
       "3          4.805332  https://www.booking.com\\n/hotel/fr/hotel-brist...    8.1   \n",
       "4          4.788189  https://www.booking.com\\n/hotel/fr/hotelf1-avi...    6.8   \n",
       "..              ...                                                ...    ...   \n",
       "83         4.416392  https://www.booking.com\\n/hotel/fr/calme-et-ch...    9.0   \n",
       "85         4.416645  https://www.booking.com\\n/hotel/fr/la-maisonne...    8.3   \n",
       "86         4.418068  https://www.booking.com\\n/hotel/fr/les-toits-d...    8.5   \n",
       "88         4.422688  https://www.booking.com\\n/hotel/fr/les-bignone...    8.9   \n",
       "89         4.421346  https://www.booking.com\\n/hotel/fr/maison-theo...    9.7   \n",
       "\n",
       "                                          description  \n",
       "0   Situé au cœur d'Avignon, l'établissement Autou...  \n",
       "1   Situé dans le centre historique d'Avignon, l'é...  \n",
       "2   Situé à 500 mètres du palais des Papes et à 10...  \n",
       "3   Idéalement situé à l’intérieur des remparts du...  \n",
       "4   L'hotelF1 Avignon Centre Courtine gare TGV se ...  \n",
       "..                                                ...  \n",
       "83  Doté d'une connexion Wi-Fi gratuite et offrant...  \n",
       "85  Situé à Uzès, dans le Languedoc-Roussillon, l'...  \n",
       "86  Offrant une vue sur la ville, l'établissement ...  \n",
       "88  Dotée d'une connexion Wi-Fi gratuite, la maiso...  \n",
       "89  Située à Uzès, en Occitanie, la Maison Theodor...  \n",
       "\n",
       "[579 rows x 9 columns]"
      ]
     },
     "execution_count": 14,
     "metadata": {},
     "output_type": "execute_result"
    }
   ],
   "source": [
    "df_top_cities_hotels = df_top_cities_hotels[df_top_cities_hotels['cityName'].isin(['Avignon','Uzes','Nimes']) ]\n",
    "df_top_cities_hotels"
   ]
  },
  {
   "cell_type": "code",
   "execution_count": 15,
   "metadata": {},
   "outputs": [
    {
     "data": {
      "application/vnd.plotly.v1+json": {
       "config": {
        "plotlyServerURL": "https://plot.ly"
       },
       "data": [
        {
         "hovertemplate": "score=%{marker.color}<br>latitude_hotel=%{lat}<br>longitude_hotel=%{lon}<extra></extra>",
         "lat": [
          43.9462327337098,
          43.9500576272619,
          43.951729,
          43.9440321278147,
          43.929032,
          43.9436294631586,
          43.9503443758655,
          43.94744645998,
          43.9262311665796,
          43.94254505533,
          43.9438081036903,
          43.9429013767361,
          43.904892495745,
          43.9481658007663,
          43.9259259387091,
          43.9442059390538,
          43.9455249566728,
          43.9475661897886,
          43.9489672037393,
          43.9435068285368,
          43.9422906932413,
          43.9498951380567,
          43.9446093348181,
          43.9446163246851,
          43.9503469433007,
          43.9569418,
          43.9510898394487,
          43.9754836836255,
          43.9440929618062,
          43.936195502875,
          43.9263393482337,
          43.9502995553487,
          43.9509511,
          43.9440746150534,
          43.9493061070468,
          43.9497628027494,
          43.9227576581892,
          43.9410463576336,
          43.9446965967306,
          43.947744,
          43.9533713478091,
          43.9509899395751,
          43.945588602008,
          43.9500166,
          43.9493997,
          43.944215,
          43.9444830321024,
          43.9525142512378,
          43.9476183301138,
          43.9454023259613,
          43.93518,
          43.9498699760739,
          43.9497169084325,
          43.9507095,
          43.9351902590879,
          43.950707,
          43.9524961448993,
          43.946948,
          43.9507271,
          43.9514716580949,
          43.9521007787407,
          43.9474485,
          43.9745160600323,
          43.9503,
          43.9456916,
          43.950855,
          43.946719,
          43.9527751,
          43.949259151306,
          43.9399338978011,
          43.9678828932184,
          43.9476274547164,
          43.9439754,
          43.94586044793,
          43.9372002,
          43.9513086460269,
          43.940337104299,
          43.9503546674348,
          43.9476071,
          43.9476495375144,
          43.9344691778332,
          43.9500765979741,
          43.9506374,
          43.9816396146695,
          43.9456141,
          43.951836,
          43.9489512723397,
          43.9524539,
          43.97504,
          43.9437200104571,
          43.9463282753436,
          43.9746558561364,
          43.9461414,
          43.950661,
          43.9526868,
          43.947213,
          43.968044,
          43.9504361,
          43.9451681,
          43.8948536082372,
          43.9508789,
          43.931291645885,
          43.9516637,
          43.9512813985748,
          43.944808200551,
          43.9495352773329,
          43.9497799,
          43.9506641388176,
          43.952073,
          43.9501606,
          43.9463060193751,
          43.9437563119742,
          43.9645951992521,
          43.9496377669598,
          43.9509749,
          43.9449146974007,
          43.9433767,
          43.926165484765,
          43.9302067131249,
          43.9528408209428,
          43.92929,
          43.9500835,
          43.9379117169879,
          43.951822397421,
          43.9260710708618,
          43.960167495275,
          43.9499013556144,
          43.9441113723071,
          43.9259858253136,
          43.94516,
          43.9513066319107,
          43.9441706,
          43.9274481988448,
          43.9436381537914,
          43.951639949815,
          43.9551016087045,
          43.945666,
          43.943842376921,
          43.9485079,
          43.9427353956332,
          43.948866947571,
          43.948524,
          43.9413094,
          43.9496041,
          43.9563875332253,
          43.9489813,
          43.9351979851916,
          43.9514058680036,
          43.9497013,
          43.9466755,
          43.9418203141116,
          43.9362041,
          43.945627225761,
          43.9490541,
          43.9463786,
          43.894590653345,
          43.9496469394784,
          43.9490847,
          43.9515236,
          43.94383,
          43.9424832541099,
          43.948841,
          43.9550301584396,
          43.948744,
          43.9462248541438,
          43.9465212,
          43.9470724,
          43.9356484875373,
          43.950083,
          43.949066854579,
          43.9490847,
          43.9498318,
          43.9470938,
          43.9504322312846,
          43.9473484,
          43.94895595212,
          43.952197882693,
          43.974736,
          43.9479290816362,
          43.9491943,
          43.945394476121,
          43.9510498,
          43.9514535,
          43.94832880731,
          43.9472019,
          43.9488792,
          43.939927228171,
          43.9456504,
          43.948612437023,
          43.951109,
          43.9507615,
          43.9447987,
          43.9379071164102,
          43.9378539,
          43.932104,
          43.949128,
          43.9454089,
          43.924495,
          43.9270545978802,
          43.947065,
          43.9498318,
          43.950149,
          43.935333933681,
          43.9523027567354,
          43.94516,
          43.949404668608,
          43.9488433,
          43.9397451058938,
          43.947065684988,
          43.9466067,
          43.9487782,
          43.949584,
          43.9465348,
          43.9185879,
          43.9435712,
          43.9488797,
          43.9312984,
          43.94459,
          43.946707125906,
          43.9498817,
          43.952160624904,
          43.938039526969,
          43.9519168,
          43.951051,
          43.9507519,
          43.94516,
          43.9444744110135,
          43.942722021967,
          43.9476199,
          43.951101,
          43.9397957,
          43.9490919,
          43.948191,
          43.9478896,
          43.980008,
          43.9443311,
          43.9477298,
          43.943046304059,
          43.943972594898,
          43.9519146,
          43.946055548844,
          43.9466963,
          43.942492880504,
          43.95193,
          43.9466483281048,
          43.9520796,
          43.945664,
          43.9488433,
          43.9494410402333,
          43.9438935,
          43.943877,
          43.9510865,
          43.9513189,
          43.9513033120821,
          43.9492408,
          43.944791940751,
          43.948841,
          43.949177566369,
          43.9517071,
          43.942199,
          43.944021058504,
          43.951428,
          43.9473145,
          43.948129,
          43.9355796,
          43.9510668,
          43.943344,
          43.9474523,
          43.946202,
          43.939615727422,
          43.9412836445053,
          43.9555514,
          43.948975,
          43.9519588,
          43.9469767,
          43.947477,
          43.9356652159926,
          43.9487265,
          43.94441,
          43.951411,
          43.939676747383,
          43.949295,
          43.950894,
          43.9516008950524,
          43.9392701,
          43.9467611,
          43.9477175,
          43.947677414366,
          43.9236044,
          43.951234,
          43.9494037274453,
          43.9379310313611,
          43.944024,
          43.942325,
          43.9500679082825,
          43.9356515,
          43.9445885,
          43.9473313,
          43.9428564,
          43.9410381,
          43.94115,
          43.95817,
          43.9510620205,
          43.951292521934,
          43.931214,
          43.9395574372715,
          43.9519168,
          43.9296122,
          43.939517678196,
          43.94459,
          43.949295,
          43.9451596,
          43.9501,
          43.9483394,
          43.949772501408,
          43.95127,
          43.9474295626086,
          43.949883,
          43.9495159538734,
          43.8157834,
          43.8354206497776,
          43.8395947565407,
          43.8227311202827,
          43.815377,
          43.8358153402745,
          43.821585485623,
          43.8361281547722,
          43.8338735348897,
          43.8377597332892,
          43.8342375300246,
          43.8373917,
          43.8324932804452,
          43.831504,
          43.8147073451298,
          43.837117,
          43.81465315292,
          43.8388721684592,
          43.829170655751,
          43.8147199254572,
          43.7884518923488,
          43.8512565239271,
          43.870469,
          43.853052,
          43.8330272990424,
          43.834472,
          43.8389950187237,
          43.840503068795,
          43.8420013,
          43.8347057502948,
          43.838666127684,
          43.850872,
          43.818459,
          43.835752,
          43.8358929,
          43.8371232,
          43.8403071,
          43.8372866,
          43.8281614,
          43.8320559021468,
          43.813890585896,
          43.8388150962031,
          43.8317575459101,
          43.8155763492052,
          43.815334,
          43.8409662889922,
          43.833162,
          43.8430619235136,
          43.8247659222373,
          43.8444911,
          43.837162209072,
          43.85597,
          43.8343632920283,
          43.8364238163426,
          43.842067884776,
          43.8342464784836,
          43.83501,
          43.824581,
          43.8428856,
          43.834037116544,
          43.8373218,
          43.8362611,
          43.817748252913,
          43.8205767477162,
          43.8307192,
          43.8376623,
          43.7885821536422,
          43.819014,
          43.8397627962523,
          43.8589782903443,
          43.8363813,
          43.841164,
          43.8740221708832,
          43.8343318635504,
          43.8411199,
          43.840143177897,
          43.8549624630414,
          43.8284216737951,
          43.836649147239,
          43.857101,
          43.8341668829,
          43.8392460970826,
          43.8208055133737,
          43.8309446498752,
          43.8389623,
          43.83297,
          43.847304,
          43.811083,
          43.878316,
          43.845396,
          43.8367908,
          43.836775,
          43.829368245185,
          43.8369370620494,
          43.8328550945411,
          43.8284391,
          43.84276364093,
          43.8396878,
          43.8397616,
          43.8372,
          43.83501,
          43.836776,
          43.8245807,
          43.8360140100135,
          43.831676,
          43.8374665580467,
          43.847853391317,
          43.835678,
          43.8150622,
          43.8345493,
          43.834412,
          43.836121,
          43.8388152000169,
          43.855521,
          43.838738998016,
          43.8305897085057,
          43.861261,
          43.8418084,
          43.838652,
          43.8218615,
          43.8476555,
          43.863235,
          43.837701946901,
          43.8386192,
          43.8378167008025,
          43.8338689,
          43.834112988481,
          43.8404999,
          43.839691530887,
          43.862278,
          43.834811,
          43.8423709365602,
          43.83546975589,
          43.8367765,
          43.8310991,
          43.8600965,
          43.8334491,
          43.813455,
          43.8597772307704,
          43.838388,
          43.8388238,
          43.8432805239309,
          43.8516089498659,
          43.872819,
          43.8495235519448,
          43.836397133369,
          43.8314949808831,
          43.840976333513,
          43.831942,
          43.8396639,
          43.8329752,
          43.8736159387224,
          43.8413941,
          43.836121,
          43.838391,
          43.8323056,
          43.8385091178479,
          43.839859,
          43.829366750289,
          43.83654,
          43.8197729,
          43.84861106869,
          43.8394659,
          43.837463,
          43.813455,
          43.8356454,
          43.839391387137,
          43.876852694862,
          43.8388343,
          43.8653286,
          43.847767,
          43.835906,
          43.8386192,
          43.833642397176,
          43.841024,
          43.8278875112154,
          43.8380784,
          43.850372,
          43.8369992,
          43.846759,
          44.023053337,
          44.011153,
          44.0126325895461,
          44.010806,
          44.0187071958688,
          44.0124643709857,
          44.014362301044,
          44.0108142596191,
          44.012017,
          44.012765,
          44.0133923870202,
          43.9957992430491,
          44.001412,
          43.9971194612628,
          44.0117798,
          43.996696040292,
          44.014756,
          44.017212186005,
          44.0156546,
          44.0121786,
          44.020244,
          44.0028448483536,
          44.014659,
          44.018242,
          44.0096419476156,
          43.982419,
          44.013157971008,
          44.0068325745551,
          44.0141777055043,
          43.9922866307744,
          44.0124311,
          44.0284314247316,
          44.0201613029839,
          44.0077179,
          44.0092451532731,
          44.0111671650711,
          43.9927782658901,
          44.0136549,
          44.011945,
          43.9986494853399,
          44.011549025737,
          44.0127444719537,
          44.0045397,
          44.0124311,
          44.0138601992265,
          44.0120196474601,
          44.009493,
          44.011209524618,
          44.01422,
          44.011972072032,
          44.008349,
          44.0113592478413,
          44.0127196904679,
          44.008369251464,
          44.0097566,
          44.0137,
          43.995238,
          44.037437,
          44.00271,
          44.020168,
          44.0103511961029,
          44.0154451458477,
          44.011847405338,
          44.0112465,
          44.009668,
          43.996230421818,
          44.0136,
          44.0141777,
          43.9958918616791,
          44.0111396,
          43.997428,
          44.0138027542442,
          44.0195447296099,
          43.965211796231,
          44.044067167921,
          44.00968,
          44.010751722279,
          44.0131999975249,
          44.0143457130385,
          44.0118774
         ],
         "legendgroup": "",
         "lon": [
          4.81007046997547,
          4.8132187128067,
          4.810339,
          4.80533167719841,
          4.788189,
          4.81217131018639,
          4.81153784603271,
          4.80592846870422,
          4.78592723608017,
          4.80436205863953,
          4.80494678020477,
          4.79804277420044,
          4.89553034305573,
          4.80576485395432,
          4.85080718994141,
          4.8067170381546,
          4.80576083064079,
          4.80603039264679,
          4.80547249317169,
          4.82236504554749,
          4.80727434173355,
          4.8198638856411,
          4.80928240613423,
          4.80061233043671,
          4.80620741844177,
          4.80294509999999,
          4.79801933009412,
          4.82743710279465,
          4.81142029166222,
          4.826000747885,
          4.85013127326965,
          4.81104354418028,
          4.80620090000002,
          4.80015635490417,
          4.8093456029892,
          4.80384975671768,
          4.80429500341415,
          4.80665266513824,
          4.80499311779101,
          4.80797,
          4.81441263109446,
          4.81063020615159,
          4.810122790531,
          4.81288119999999,
          4.80887080000002,
          4.809472,
          4.79949587607484,
          4.81585921973499,
          4.80680353939533,
          4.81286700814962,
          4.821994,
          4.80851545929909,
          4.8035734044463,
          4.80338430000006,
          4.78094637393951,
          4.811875,
          4.81014221906662,
          4.79433599999993,
          4.8038052,
          4.80458517080456,
          4.80463296175003,
          4.80787129999999,
          4.83258962631226,
          4.8058055865082,
          4.80968159999998,
          4.810121,
          4.814024,
          4.8053707,
          4.814877424252,
          4.80614572763443,
          4.83388245105743,
          4.8117633981476,
          4.81414689999997,
          4.80509036899321,
          4.879587,
          4.81073502827951,
          4.8117496368053,
          4.80323016643524,
          4.8079964,
          4.80895768178408,
          4.81496628711989,
          4.8077067732811,
          4.81083179999996,
          4.8431449837426,
          4.80359920000001,
          4.812205,
          4.81241337954998,
          4.8158498,
          4.822944,
          4.80613209931598,
          4.81039058650822,
          4.8315703868866,
          4.81308760000002,
          4.81051,
          4.83472780000003,
          4.8120952,
          4.84577760000002,
          4.8109899,
          4.8107169,
          4.91302990954398,
          4.80995619999999,
          4.820387226459,
          4.804227,
          4.80403522346785,
          4.810046560013,
          4.81087959755325,
          4.8032072,
          4.81048387238729,
          4.814705,
          4.8088852,
          4.88842517137527,
          4.798152364418,
          4.8378199338913,
          4.80635896325111,
          4.81518359999995,
          4.80548322200775,
          4.81912729999999,
          4.84442085027695,
          4.79032874107361,
          4.80593383312225,
          4.78411800000003,
          4.8142527,
          4.82271373271942,
          4.825816953967,
          4.84903290867805,
          4.82208275082212,
          4.80647698044777,
          4.80579557056967,
          4.85163599252701,
          4.808157,
          4.80400931349186,
          4.80940380000004,
          4.8478889465332,
          4.79828953742981,
          4.806270164804,
          4.8199997491821,
          4.810924,
          4.81002665582,
          4.8105641,
          4.80243623256683,
          4.809147547685,
          4.807423,
          4.8169311,
          4.81154160000006,
          4.80199098587036,
          4.8074789,
          4.78102684020996,
          4.80340572327884,
          4.8036737,
          4.8033064,
          4.81495336441799,
          4.8021144,
          4.809690266934,
          4.8102312,
          4.8132329,
          4.912884016345,
          4.81051236391068,
          4.8064592,
          4.8170918,
          4.805912,
          4.82233822345734,
          4.806593,
          4.81983840465546,
          4.79703300000006,
          4.80181200000004,
          4.8130388,
          4.8094123,
          4.81162884418029,
          4.814253,
          4.810123446787,
          4.8064592,
          4.8085131,
          4.8131643,
          4.8056592785736,
          4.8127817,
          4.80791470859833,
          4.81700120231995,
          4.9931165,
          4.80683695337302,
          4.8115665,
          4.81760505159,
          4.8168594,
          4.81799799999999,
          4.812318157672,
          4.8076815,
          4.8064518,
          4.809668490993,
          4.8092933,
          4.804490088955,
          4.812082,
          4.80381439999996,
          4.80999839999999,
          4.87043056637049,
          4.8704543,
          4.884238304507,
          4.806311,
          4.81418719999999,
          4.826393,
          4.81054320931435,
          4.811029,
          4.8085131,
          4.808849,
          4.804490313296,
          4.81637803254091,
          4.808157,
          4.811101071185,
          4.8078557,
          4.8063301295042,
          4.811045769312,
          4.81000140000003,
          4.8073266,
          4.8084743,
          4.8360437,
          4.8903981,
          4.8084703,
          4.8055356,
          4.819889701852,
          4.810002,
          4.815668160154,
          4.8276406,
          4.811409039881,
          4.826564669312,
          4.8194818,
          4.806257,
          4.8168272,
          4.808157,
          4.81060352991062,
          4.86986649783671,
          4.8067702,
          4.812327,
          4.8160405,
          4.8107762,
          4.808427,
          4.8109505,
          4.840739,
          4.8102022,
          4.8121136,
          4.817832419505,
          4.813526,
          4.8151139,
          4.81546439230442,
          4.8154737,
          4.819210799722,
          4.80469900000003,
          4.82193442520065,
          4.81204830000001,
          4.808925,
          4.8078557,
          4.81129389256239,
          4.8069269,
          4.80857719999995,
          4.81731,
          4.81086740000001,
          4.82816129922867,
          4.811314,
          4.810052714733,
          4.806593,
          4.810831185285,
          4.81108130000007,
          4.878932,
          4.809092999633,
          4.81545,
          4.807103,
          4.850273,
          4.8279651,
          4.83332240000004,
          4.819158,
          4.8288798,
          4.851241,
          4.815697043568,
          4.85346694345606,
          4.8296315,
          4.807467,
          4.81483228650814,
          4.81029060000003,
          4.807578,
          4.81280515071944,
          4.8084664,
          4.807961,
          4.804167,
          4.816053242613,
          4.8065045,
          4.812025,
          4.82697241008282,
          4.8164826,
          4.8139353,
          4.8122261,
          4.81075112259145,
          4.8204993,
          4.810717,
          4.80894820001731,
          4.79902513325214,
          4.809707,
          4.810693,
          4.80918601155281,
          4.81217040000001,
          4.81028019999997,
          4.8132559,
          4.798493,
          4.8191984,
          4.8118476,
          4.823735,
          4.833048357891,
          4.806369701852,
          4.814932,
          4.80634497734756,
          4.8194818,
          4.8139715,
          4.81384536117,
          4.810002,
          4.8065045,
          4.8081572,
          4.8089,
          4.8012291,
          4.80390690566,
          4.812745,
          4.82126399874687,
          4.808017,
          4.81107665155525,
          4.3463127,
          4.36340421438217,
          4.36108410358429,
          4.36412572860718,
          4.345905,
          4.35914017260075,
          4.3645977973938,
          4.36126994535164,
          4.36143395952456,
          4.36387225985527,
          4.36079040169716,
          4.3567136,
          4.36785668134689,
          4.367797,
          4.34483259916306,
          4.357898,
          4.34430956840515,
          4.36974763870239,
          4.35692072209,
          4.34627361595631,
          4.35384232647618,
          4.30073976516724,
          4.40491,
          4.351386,
          4.36618968844414,
          4.356771,
          4.36281144618988,
          4.35905188941047,
          4.363243,
          4.36731219291687,
          4.35276791453362,
          4.31083,
          4.362642,
          4.3585,
          4.3651165,
          4.3700304,
          4.3702517,
          4.3617059,
          4.35479020000002,
          4.36736449599266,
          4.34434175491333,
          4.3548184633255,
          4.36697356402874,
          4.34660352766514,
          4.34405200000003,
          4.39121264054484,
          4.366397,
          4.33440423123322,
          4.369046241045,
          4.3677326,
          4.37634893529,
          4.36502,
          4.3653367459774,
          4.36474531888962,
          4.367556011233,
          4.35091853141785,
          4.349857,
          4.350535,
          4.3590621,
          4.353889097553,
          4.3593779,
          4.3587013,
          4.320133406746,
          4.31912697851658,
          4.3548016,
          4.3592227,
          4.35380257666111,
          4.325773,
          4.3569419908074,
          4.34992061622097,
          4.358278,
          4.367986,
          4.36582088470459,
          4.367129892089,
          4.3534314,
          4.358334849074,
          4.25264456667333,
          4.3207631726303,
          4.358286242328,
          4.347915,
          4.350478454649,
          4.36190008308881,
          4.37125319999996,
          4.36287749743395,
          4.3718843,
          4.354871,
          4.32921,
          4.2986312,
          4.403321,
          4.368959,
          4.3539616,
          4.356929,
          4.357869620164,
          4.35709834098816,
          4.35906688830883,
          4.37537829999997,
          4.35472676925542,
          4.3595836,
          4.3567186,
          4.346859,
          4.349857,
          4.358018,
          4.3505348,
          4.35991144081188,
          4.36020259999998,
          4.35176469789235,
          4.316878075394,
          4.358652,
          4.3359435,
          4.358399,
          4.347263,
          4.356573,
          4.36241362382685,
          4.38529,
          4.380236294477,
          4.35282677735801,
          4.366921,
          4.3578191,
          4.3576514,
          4.3607791,
          4.3625798,
          4.39901,
          4.360085403076,
          4.3624746,
          4.3588325327133,
          4.3570549,
          4.357895298811,
          4.3688585,
          4.352454786508,
          4.355442,
          4.34698,
          4.36280185950704,
          4.358533313492,
          4.3580184,
          4.3583395,
          4.35288949999995,
          4.3536415,
          4.394221,
          4.38782040633939,
          4.351273,
          4.345559,
          4.36270317857361,
          4.37470570206642,
          4.355637,
          4.32767230552258,
          4.358736246016,
          4.35929775238037,
          4.361336513492,
          4.364727,
          4.3567599,
          4.3548706,
          4.37002603862311,
          4.3056266,
          4.356573,
          4.346347,
          4.3682711,
          4.34529528021812,
          4.3658,
          4.357897132246,
          4.358829,
          4.32231999999999,
          4.36314443988113,
          4.3564264,
          4.364442,
          4.394221,
          4.3595184,
          4.353717209869,
          4.364816659817,
          4.3699188,
          4.4088041,
          4.345362,
          4.3563627,
          4.3624746,
          4.378096529052,
          4.359022,
          4.35043288220902,
          4.3590621,
          4.331555,
          4.359022,
          4.352102,
          4.42047223448753,
          4.420694,
          4.41414892673492,
          4.41752,
          4.41590916501241,
          4.42180011104506,
          4.41091964662701,
          4.41779908857734,
          4.420584,
          4.414323,
          4.42081974225846,
          4.42739207738509,
          4.419783,
          4.42578703165054,
          4.4063082,
          4.425974246033,
          4.420526,
          4.421508988098,
          4.4068772,
          4.40631810000002,
          4.409254,
          4.41645205009991,
          4.4200515,
          4.418825,
          4.41788524389267,
          4.437963,
          4.420561341104,
          4.42035013436225,
          4.42260727286339,
          4.43396687463974,
          4.4192362,
          4.42002385832893,
          4.43052643696217,
          4.4085783,
          4.41617399454117,
          4.4207141147499,
          4.42427515961754,
          4.42235579999999,
          4.419267,
          4.4080924987793,
          4.420137072353,
          4.42113071680069,
          4.4120199,
          4.4192362,
          4.42187352513122,
          4.41943443265698,
          4.4162865,
          4.420136667484,
          4.419562,
          4.419075213492,
          4.4077357,
          4.41826268220903,
          4.42112375519059,
          4.415249699488,
          4.41617759999997,
          4.4179929,
          4.421976,
          4.45216,
          4.419952,
          4.393468,
          4.4221975386231,
          4.40986999921734,
          4.414136186178,
          4.4188128,
          4.418032,
          4.425882684579,
          4.41709,
          4.4220873,
          4.4274671792374,
          4.4191369,
          4.412575,
          4.41965910730141,
          4.42851483821869,
          4.366439263439,
          4.406036122198,
          4.4163925,
          4.41664519384835,
          4.41806849265981,
          4.42268847778905,
          4.4213456
         ],
         "marker": {
          "color": [
           8.3,
           8.7,
           8.4,
           8.1,
           6.8,
           8.6,
           9.1,
           7.9,
           7.9,
           8.3,
           7.8,
           8.2,
           7.9,
           8.9,
           7.2,
           8.3,
           8.2,
           7.7,
           8.3,
           7.2,
           7.8,
           7.7,
           9.7,
           7.5,
           8.1,
           8.1,
           9.3,
           8.5,
           7.8,
           8.9,
           7.2,
           9.7,
           9.7,
           9.1,
           8.4,
           7.5,
           8.4,
           7.5,
           8.6,
           9.6,
           8.2,
           9.1,
           9.3,
           9.3,
           8.8,
           9,
           9,
           9.1,
           8.9,
           8.5,
           9.2,
           9.4,
           8.3,
           8.5,
           6.9,
           9.5,
           9.1,
           8.8,
           9.3,
           8,
           9.5,
           9.1,
           9.5,
           8.4,
           8.3,
           9.3,
           8.5,
           9,
           9.3,
           7.3,
           9.4,
           9,
           9.1,
           9,
           8.7,
           9.7,
           8.7,
           8.8,
           9.3,
           9,
           9.4,
           9,
           9.9,
           9.3,
           8.7,
           9.7,
           9.5,
           9.6,
           9.4,
           8.9,
           8.4,
           9,
           8.4,
           9.8,
           7.3,
           9.1,
           9.4,
           9.7,
           9.4,
           9.6,
           9.7,
           8.3,
           9.5,
           9,
           8.2,
           8,
           9.6,
           9.9,
           9.4,
           9.3,
           9.1,
           7.8,
           9.8,
           8.3,
           8.8,
           5.3,
           9.4,
           8.2,
           6.1,
           7.9,
           8.3,
           9.6,
           4.4,
           8.9,
           7.5,
           9.5,
           8,
           8.9,
           7.5,
           8.5,
           8.9,
           8.6,
           8.1,
           7.4,
           9.7,
           9,
           9.5,
           9.7,
           9.7,
           8,
           9.4,
           9.7,
           8.2,
           9.3,
           7.8,
           7.5,
           6.9,
           9.3,
           9.2,
           9.3,
           8.9,
           9.2,
           8.7,
           9.2,
           8.7,
           9.6,
           9.4,
           9.2,
           9.5,
           8.5,
           6.4,
           8.6,
           8.8,
           8.9,
           8.6,
           9,
           7.5,
           9.1,
           9,
           8.6,
           9.1,
           8.2,
           9.2,
           8.3,
           8.7,
           9.3,
           9.2,
           6.8,
           8.6,
           8.9,
           8.3,
           6.2,
           8.8,
           9.6,
           9.4,
           8.1,
           8.9,
           8.8,
           9.7,
           8.8,
           9,
           8.1,
           6.1,
           7.2,
           9.3,
           9.1,
           9,
           9.4,
           8.7,
           8.4,
           6.7,
           9.4,
           8,
           9.4,
           9.2,
           6.8,
           8.7,
           6.9,
           9.2,
           8.6,
           9.4,
           8.7,
           8.3,
           8.8,
           8.7,
           8.8,
           8.4,
           8.1,
           7.1,
           8.3,
           9,
           9,
           9,
           9.4,
           8.7,
           8.8,
           7.9,
           9.1,
           8.3,
           9.7,
           8.2,
           7.3,
           9.3,
           9.4,
           9.6,
           8.2,
           6.5,
           7.3,
           8.4,
           8.3,
           9.2,
           7.8,
           7,
           9.3,
           9.5,
           9.6,
           9.9,
           9.7,
           9.1,
           8.6,
           8.4,
           9,
           9.6,
           9.2,
           4.5,
           8.9,
           8.8,
           9,
           8.9,
           8.1,
           9,
           8.9,
           8.6,
           8.5,
           8.4,
           9.3,
           9.2,
           8.3,
           8.3,
           7.7,
           9.2,
           7,
           8.1,
           8.9,
           9,
           8,
           8.6,
           9,
           7.4,
           8.9,
           8.4,
           8.4,
           9.3,
           7.9,
           9,
           8.7,
           8,
           9.1,
           10,
           8.8,
           8.6,
           9.3,
           8,
           9.5,
           9.5,
           9.4,
           8.5,
           7.2,
           8.7,
           7.3,
           9.3,
           9.1,
           8.5,
           10,
           9.2,
           7.1,
           6,
           7.7,
           7.9,
           8.4,
           9.1,
           7.9,
           9.5,
           10,
           8.3,
           9.1,
           9.3,
           5.7,
           7.8,
           7.5,
           8,
           8,
           7,
           7.3,
           8.6,
           7.2,
           7,
           8.8,
           6.8,
           8.1,
           8.1,
           7.6,
           8.2,
           7.8,
           9.5,
           7.1,
           7.7,
           8.7,
           7.5,
           7.6,
           8.2,
           9.7,
           9.7,
           7.1,
           9.9,
           7.6,
           9.2,
           9,
           8.9,
           9,
           9.1,
           8.9,
           8.6,
           9.2,
           7.5,
           9.1,
           7.7,
           7.4,
           8.1,
           7.9,
           8.1,
           8.4,
           7.4,
           6.5,
           9.2,
           8.5,
           8.1,
           7.9,
           6.2,
           7,
           9.5,
           8.7,
           8.4,
           7.6,
           9.5,
           9.6,
           8.4,
           9.2,
           9.2,
           8.9,
           9.5,
           9.2,
           8.1,
           9.4,
           7.9,
           8.5,
           8.8,
           8.3,
           9.2,
           8.8,
           7.2,
           8.6,
           8.9,
           8.7,
           8.7,
           5.9,
           8.9,
           9.8,
           9.5,
           9.5,
           9,
           9.1,
           9.4,
           8.7,
           8.2,
           9.8,
           8.3,
           8.9,
           8.6,
           9.2,
           7.9,
           9.4,
           8.5,
           7.9,
           8.9,
           9.3,
           9,
           9.2,
           6.2,
           9.5,
           9.5,
           8.8,
           9.8,
           9.5,
           9.5,
           9,
           8.8,
           9.2,
           8.8,
           4.4,
           8.2,
           9.6,
           8.3,
           7,
           7,
           9.9,
           7.9,
           8.4,
           9.3,
           8.6,
           9.6,
           10,
           8.6,
           8.4,
           8.8,
           8.3,
           8.5,
           9.1,
           8.9,
           9.6,
           9.8,
           8.6,
           6.7,
           8.2,
           9.3,
           8.6,
           8.2,
           9,
           9,
           7.3,
           9.1,
           9.4,
           9.4,
           9.6,
           7.6,
           8.9,
           8.3,
           8.8,
           8.4,
           7.7,
           9.8,
           9.9,
           8.6,
           9.8,
           8.1,
           9.4,
           9.2,
           9.7,
           6.8,
           9,
           8.6,
           8.9,
           8,
           8,
           9.4,
           9.6,
           10,
           9.6,
           9,
           9.7,
           8.7,
           8.3,
           8.3,
           8.8,
           9.4,
           6.4,
           8.1,
           9,
           9.1,
           9,
           8.8,
           7.7,
           7.6,
           9.4,
           8.9,
           9.2,
           9.1,
           9.7,
           9,
           9,
           7.8,
           8.9,
           8.2,
           9.1,
           7.3,
           9.2,
           8.6,
           9,
           8.4,
           9.8,
           7.9,
           8.9,
           9.7,
           9.2,
           8.1,
           9.4,
           9.5,
           9,
           8.4,
           9.6,
           8.7,
           7.6,
           9.1,
           8.8,
           9,
           8.3,
           9,
           8,
           9.3,
           8.1,
           8.7,
           8.7,
           9.5,
           9.5,
           9.5,
           6.3,
           8.8,
           7.2,
           9.7,
           8,
           9.1,
           9.7,
           8.5,
           8.9,
           8.8,
           9.9,
           9.7,
           8.5,
           9.1,
           9.4,
           9.8,
           9.5,
           8.5,
           9.7,
           9.9,
           9.1,
           9.4,
           9.5,
           9.2,
           9.7,
           9.6,
           8,
           8.5,
           9.4,
           9,
           8.3,
           8.5,
           8.9,
           9.7
          ],
          "coloraxis": "coloraxis",
          "size": [
           8.3,
           8.7,
           8.4,
           8.1,
           6.8,
           8.6,
           9.1,
           7.9,
           7.9,
           8.3,
           7.8,
           8.2,
           7.9,
           8.9,
           7.2,
           8.3,
           8.2,
           7.7,
           8.3,
           7.2,
           7.8,
           7.7,
           9.7,
           7.5,
           8.1,
           8.1,
           9.3,
           8.5,
           7.8,
           8.9,
           7.2,
           9.7,
           9.7,
           9.1,
           8.4,
           7.5,
           8.4,
           7.5,
           8.6,
           9.6,
           8.2,
           9.1,
           9.3,
           9.3,
           8.8,
           9,
           9,
           9.1,
           8.9,
           8.5,
           9.2,
           9.4,
           8.3,
           8.5,
           6.9,
           9.5,
           9.1,
           8.8,
           9.3,
           8,
           9.5,
           9.1,
           9.5,
           8.4,
           8.3,
           9.3,
           8.5,
           9,
           9.3,
           7.3,
           9.4,
           9,
           9.1,
           9,
           8.7,
           9.7,
           8.7,
           8.8,
           9.3,
           9,
           9.4,
           9,
           9.9,
           9.3,
           8.7,
           9.7,
           9.5,
           9.6,
           9.4,
           8.9,
           8.4,
           9,
           8.4,
           9.8,
           7.3,
           9.1,
           9.4,
           9.7,
           9.4,
           9.6,
           9.7,
           8.3,
           9.5,
           9,
           8.2,
           8,
           9.6,
           9.9,
           9.4,
           9.3,
           9.1,
           7.8,
           9.8,
           8.3,
           8.8,
           5.3,
           9.4,
           8.2,
           6.1,
           7.9,
           8.3,
           9.6,
           4.4,
           8.9,
           7.5,
           9.5,
           8,
           8.9,
           7.5,
           8.5,
           8.9,
           8.6,
           8.1,
           7.4,
           9.7,
           9,
           9.5,
           9.7,
           9.7,
           8,
           9.4,
           9.7,
           8.2,
           9.3,
           7.8,
           7.5,
           6.9,
           9.3,
           9.2,
           9.3,
           8.9,
           9.2,
           8.7,
           9.2,
           8.7,
           9.6,
           9.4,
           9.2,
           9.5,
           8.5,
           6.4,
           8.6,
           8.8,
           8.9,
           8.6,
           9,
           7.5,
           9.1,
           9,
           8.6,
           9.1,
           8.2,
           9.2,
           8.3,
           8.7,
           9.3,
           9.2,
           6.8,
           8.6,
           8.9,
           8.3,
           6.2,
           8.8,
           9.6,
           9.4,
           8.1,
           8.9,
           8.8,
           9.7,
           8.8,
           9,
           8.1,
           6.1,
           7.2,
           9.3,
           9.1,
           9,
           9.4,
           8.7,
           8.4,
           6.7,
           9.4,
           8,
           9.4,
           9.2,
           6.8,
           8.7,
           6.9,
           9.2,
           8.6,
           9.4,
           8.7,
           8.3,
           8.8,
           8.7,
           8.8,
           8.4,
           8.1,
           7.1,
           8.3,
           9,
           9,
           9,
           9.4,
           8.7,
           8.8,
           7.9,
           9.1,
           8.3,
           9.7,
           8.2,
           7.3,
           9.3,
           9.4,
           9.6,
           8.2,
           6.5,
           7.3,
           8.4,
           8.3,
           9.2,
           7.8,
           7,
           9.3,
           9.5,
           9.6,
           9.9,
           9.7,
           9.1,
           8.6,
           8.4,
           9,
           9.6,
           9.2,
           4.5,
           8.9,
           8.8,
           9,
           8.9,
           8.1,
           9,
           8.9,
           8.6,
           8.5,
           8.4,
           9.3,
           9.2,
           8.3,
           8.3,
           7.7,
           9.2,
           7,
           8.1,
           8.9,
           9,
           8,
           8.6,
           9,
           7.4,
           8.9,
           8.4,
           8.4,
           9.3,
           7.9,
           9,
           8.7,
           8,
           9.1,
           10,
           8.8,
           8.6,
           9.3,
           8,
           9.5,
           9.5,
           9.4,
           8.5,
           7.2,
           8.7,
           7.3,
           9.3,
           9.1,
           8.5,
           10,
           9.2,
           7.1,
           6,
           7.7,
           7.9,
           8.4,
           9.1,
           7.9,
           9.5,
           10,
           8.3,
           9.1,
           9.3,
           5.7,
           7.8,
           7.5,
           8,
           8,
           7,
           7.3,
           8.6,
           7.2,
           7,
           8.8,
           6.8,
           8.1,
           8.1,
           7.6,
           8.2,
           7.8,
           9.5,
           7.1,
           7.7,
           8.7,
           7.5,
           7.6,
           8.2,
           9.7,
           9.7,
           7.1,
           9.9,
           7.6,
           9.2,
           9,
           8.9,
           9,
           9.1,
           8.9,
           8.6,
           9.2,
           7.5,
           9.1,
           7.7,
           7.4,
           8.1,
           7.9,
           8.1,
           8.4,
           7.4,
           6.5,
           9.2,
           8.5,
           8.1,
           7.9,
           6.2,
           7,
           9.5,
           8.7,
           8.4,
           7.6,
           9.5,
           9.6,
           8.4,
           9.2,
           9.2,
           8.9,
           9.5,
           9.2,
           8.1,
           9.4,
           7.9,
           8.5,
           8.8,
           8.3,
           9.2,
           8.8,
           7.2,
           8.6,
           8.9,
           8.7,
           8.7,
           5.9,
           8.9,
           9.8,
           9.5,
           9.5,
           9,
           9.1,
           9.4,
           8.7,
           8.2,
           9.8,
           8.3,
           8.9,
           8.6,
           9.2,
           7.9,
           9.4,
           8.5,
           7.9,
           8.9,
           9.3,
           9,
           9.2,
           6.2,
           9.5,
           9.5,
           8.8,
           9.8,
           9.5,
           9.5,
           9,
           8.8,
           9.2,
           8.8,
           4.4,
           8.2,
           9.6,
           8.3,
           7,
           7,
           9.9,
           7.9,
           8.4,
           9.3,
           8.6,
           9.6,
           10,
           8.6,
           8.4,
           8.8,
           8.3,
           8.5,
           9.1,
           8.9,
           9.6,
           9.8,
           8.6,
           6.7,
           8.2,
           9.3,
           8.6,
           8.2,
           9,
           9,
           7.3,
           9.1,
           9.4,
           9.4,
           9.6,
           7.6,
           8.9,
           8.3,
           8.8,
           8.4,
           7.7,
           9.8,
           9.9,
           8.6,
           9.8,
           8.1,
           9.4,
           9.2,
           9.7,
           6.8,
           9,
           8.6,
           8.9,
           8,
           8,
           9.4,
           9.6,
           10,
           9.6,
           9,
           9.7,
           8.7,
           8.3,
           8.3,
           8.8,
           9.4,
           6.4,
           8.1,
           9,
           9.1,
           9,
           8.8,
           7.7,
           7.6,
           9.4,
           8.9,
           9.2,
           9.1,
           9.7,
           9,
           9,
           7.8,
           8.9,
           8.2,
           9.1,
           7.3,
           9.2,
           8.6,
           9,
           8.4,
           9.8,
           7.9,
           8.9,
           9.7,
           9.2,
           8.1,
           9.4,
           9.5,
           9,
           8.4,
           9.6,
           8.7,
           7.6,
           9.1,
           8.8,
           9,
           8.3,
           9,
           8,
           9.3,
           8.1,
           8.7,
           8.7,
           9.5,
           9.5,
           9.5,
           6.3,
           8.8,
           7.2,
           9.7,
           8,
           9.1,
           9.7,
           8.5,
           8.9,
           8.8,
           9.9,
           9.7,
           8.5,
           9.1,
           9.4,
           9.8,
           9.5,
           8.5,
           9.7,
           9.9,
           9.1,
           9.4,
           9.5,
           9.2,
           9.7,
           9.6,
           8,
           8.5,
           9.4,
           9,
           8.3,
           8.5,
           8.9,
           9.7
          ],
          "sizemode": "area",
          "sizeref": 0.025
         },
         "mode": "markers",
         "name": "",
         "showlegend": false,
         "subplot": "mapbox",
         "type": "scattermapbox"
        }
       ],
       "layout": {
        "autosize": true,
        "coloraxis": {
         "colorbar": {
          "title": {
           "text": "score"
          }
         },
         "colorscale": [
          [
           0,
           "#0d0887"
          ],
          [
           0.1111111111111111,
           "#46039f"
          ],
          [
           0.2222222222222222,
           "#7201a8"
          ],
          [
           0.3333333333333333,
           "#9c179e"
          ],
          [
           0.4444444444444444,
           "#bd3786"
          ],
          [
           0.5555555555555556,
           "#d8576b"
          ],
          [
           0.6666666666666666,
           "#ed7953"
          ],
          [
           0.7777777777777778,
           "#fb9f3a"
          ],
          [
           0.8888888888888888,
           "#fdca26"
          ],
          [
           1,
           "#f0f921"
          ]
         ]
        },
        "legend": {
         "itemsizing": "constant",
         "tracegroupgap": 0
        },
        "mapbox": {
         "bearing": 0,
         "center": {
          "lat": 44.04421048230236,
          "lon": 3.8244135259606082
         },
         "domain": {
          "x": [
           0,
           1
          ],
          "y": [
           0,
           1
          ]
         },
         "pitch": 0,
         "style": "carto-positron",
         "zoom": 4.600558795113136
        },
        "template": {
         "data": {
          "bar": [
           {
            "error_x": {
             "color": "#2a3f5f"
            },
            "error_y": {
             "color": "#2a3f5f"
            },
            "marker": {
             "line": {
              "color": "#E5ECF6",
              "width": 0.5
             },
             "pattern": {
              "fillmode": "overlay",
              "size": 10,
              "solidity": 0.2
             }
            },
            "type": "bar"
           }
          ],
          "barpolar": [
           {
            "marker": {
             "line": {
              "color": "#E5ECF6",
              "width": 0.5
             },
             "pattern": {
              "fillmode": "overlay",
              "size": 10,
              "solidity": 0.2
             }
            },
            "type": "barpolar"
           }
          ],
          "carpet": [
           {
            "aaxis": {
             "endlinecolor": "#2a3f5f",
             "gridcolor": "white",
             "linecolor": "white",
             "minorgridcolor": "white",
             "startlinecolor": "#2a3f5f"
            },
            "baxis": {
             "endlinecolor": "#2a3f5f",
             "gridcolor": "white",
             "linecolor": "white",
             "minorgridcolor": "white",
             "startlinecolor": "#2a3f5f"
            },
            "type": "carpet"
           }
          ],
          "choropleth": [
           {
            "colorbar": {
             "outlinewidth": 0,
             "ticks": ""
            },
            "type": "choropleth"
           }
          ],
          "contour": [
           {
            "colorbar": {
             "outlinewidth": 0,
             "ticks": ""
            },
            "colorscale": [
             [
              0,
              "#0d0887"
             ],
             [
              0.1111111111111111,
              "#46039f"
             ],
             [
              0.2222222222222222,
              "#7201a8"
             ],
             [
              0.3333333333333333,
              "#9c179e"
             ],
             [
              0.4444444444444444,
              "#bd3786"
             ],
             [
              0.5555555555555556,
              "#d8576b"
             ],
             [
              0.6666666666666666,
              "#ed7953"
             ],
             [
              0.7777777777777778,
              "#fb9f3a"
             ],
             [
              0.8888888888888888,
              "#fdca26"
             ],
             [
              1,
              "#f0f921"
             ]
            ],
            "type": "contour"
           }
          ],
          "contourcarpet": [
           {
            "colorbar": {
             "outlinewidth": 0,
             "ticks": ""
            },
            "type": "contourcarpet"
           }
          ],
          "heatmap": [
           {
            "colorbar": {
             "outlinewidth": 0,
             "ticks": ""
            },
            "colorscale": [
             [
              0,
              "#0d0887"
             ],
             [
              0.1111111111111111,
              "#46039f"
             ],
             [
              0.2222222222222222,
              "#7201a8"
             ],
             [
              0.3333333333333333,
              "#9c179e"
             ],
             [
              0.4444444444444444,
              "#bd3786"
             ],
             [
              0.5555555555555556,
              "#d8576b"
             ],
             [
              0.6666666666666666,
              "#ed7953"
             ],
             [
              0.7777777777777778,
              "#fb9f3a"
             ],
             [
              0.8888888888888888,
              "#fdca26"
             ],
             [
              1,
              "#f0f921"
             ]
            ],
            "type": "heatmap"
           }
          ],
          "heatmapgl": [
           {
            "colorbar": {
             "outlinewidth": 0,
             "ticks": ""
            },
            "colorscale": [
             [
              0,
              "#0d0887"
             ],
             [
              0.1111111111111111,
              "#46039f"
             ],
             [
              0.2222222222222222,
              "#7201a8"
             ],
             [
              0.3333333333333333,
              "#9c179e"
             ],
             [
              0.4444444444444444,
              "#bd3786"
             ],
             [
              0.5555555555555556,
              "#d8576b"
             ],
             [
              0.6666666666666666,
              "#ed7953"
             ],
             [
              0.7777777777777778,
              "#fb9f3a"
             ],
             [
              0.8888888888888888,
              "#fdca26"
             ],
             [
              1,
              "#f0f921"
             ]
            ],
            "type": "heatmapgl"
           }
          ],
          "histogram": [
           {
            "marker": {
             "pattern": {
              "fillmode": "overlay",
              "size": 10,
              "solidity": 0.2
             }
            },
            "type": "histogram"
           }
          ],
          "histogram2d": [
           {
            "colorbar": {
             "outlinewidth": 0,
             "ticks": ""
            },
            "colorscale": [
             [
              0,
              "#0d0887"
             ],
             [
              0.1111111111111111,
              "#46039f"
             ],
             [
              0.2222222222222222,
              "#7201a8"
             ],
             [
              0.3333333333333333,
              "#9c179e"
             ],
             [
              0.4444444444444444,
              "#bd3786"
             ],
             [
              0.5555555555555556,
              "#d8576b"
             ],
             [
              0.6666666666666666,
              "#ed7953"
             ],
             [
              0.7777777777777778,
              "#fb9f3a"
             ],
             [
              0.8888888888888888,
              "#fdca26"
             ],
             [
              1,
              "#f0f921"
             ]
            ],
            "type": "histogram2d"
           }
          ],
          "histogram2dcontour": [
           {
            "colorbar": {
             "outlinewidth": 0,
             "ticks": ""
            },
            "colorscale": [
             [
              0,
              "#0d0887"
             ],
             [
              0.1111111111111111,
              "#46039f"
             ],
             [
              0.2222222222222222,
              "#7201a8"
             ],
             [
              0.3333333333333333,
              "#9c179e"
             ],
             [
              0.4444444444444444,
              "#bd3786"
             ],
             [
              0.5555555555555556,
              "#d8576b"
             ],
             [
              0.6666666666666666,
              "#ed7953"
             ],
             [
              0.7777777777777778,
              "#fb9f3a"
             ],
             [
              0.8888888888888888,
              "#fdca26"
             ],
             [
              1,
              "#f0f921"
             ]
            ],
            "type": "histogram2dcontour"
           }
          ],
          "mesh3d": [
           {
            "colorbar": {
             "outlinewidth": 0,
             "ticks": ""
            },
            "type": "mesh3d"
           }
          ],
          "parcoords": [
           {
            "line": {
             "colorbar": {
              "outlinewidth": 0,
              "ticks": ""
             }
            },
            "type": "parcoords"
           }
          ],
          "pie": [
           {
            "automargin": true,
            "type": "pie"
           }
          ],
          "scatter": [
           {
            "marker": {
             "colorbar": {
              "outlinewidth": 0,
              "ticks": ""
             }
            },
            "type": "scatter"
           }
          ],
          "scatter3d": [
           {
            "line": {
             "colorbar": {
              "outlinewidth": 0,
              "ticks": ""
             }
            },
            "marker": {
             "colorbar": {
              "outlinewidth": 0,
              "ticks": ""
             }
            },
            "type": "scatter3d"
           }
          ],
          "scattercarpet": [
           {
            "marker": {
             "colorbar": {
              "outlinewidth": 0,
              "ticks": ""
             }
            },
            "type": "scattercarpet"
           }
          ],
          "scattergeo": [
           {
            "marker": {
             "colorbar": {
              "outlinewidth": 0,
              "ticks": ""
             }
            },
            "type": "scattergeo"
           }
          ],
          "scattergl": [
           {
            "marker": {
             "colorbar": {
              "outlinewidth": 0,
              "ticks": ""
             }
            },
            "type": "scattergl"
           }
          ],
          "scattermapbox": [
           {
            "marker": {
             "colorbar": {
              "outlinewidth": 0,
              "ticks": ""
             }
            },
            "type": "scattermapbox"
           }
          ],
          "scatterpolar": [
           {
            "marker": {
             "colorbar": {
              "outlinewidth": 0,
              "ticks": ""
             }
            },
            "type": "scatterpolar"
           }
          ],
          "scatterpolargl": [
           {
            "marker": {
             "colorbar": {
              "outlinewidth": 0,
              "ticks": ""
             }
            },
            "type": "scatterpolargl"
           }
          ],
          "scatterternary": [
           {
            "marker": {
             "colorbar": {
              "outlinewidth": 0,
              "ticks": ""
             }
            },
            "type": "scatterternary"
           }
          ],
          "surface": [
           {
            "colorbar": {
             "outlinewidth": 0,
             "ticks": ""
            },
            "colorscale": [
             [
              0,
              "#0d0887"
             ],
             [
              0.1111111111111111,
              "#46039f"
             ],
             [
              0.2222222222222222,
              "#7201a8"
             ],
             [
              0.3333333333333333,
              "#9c179e"
             ],
             [
              0.4444444444444444,
              "#bd3786"
             ],
             [
              0.5555555555555556,
              "#d8576b"
             ],
             [
              0.6666666666666666,
              "#ed7953"
             ],
             [
              0.7777777777777778,
              "#fb9f3a"
             ],
             [
              0.8888888888888888,
              "#fdca26"
             ],
             [
              1,
              "#f0f921"
             ]
            ],
            "type": "surface"
           }
          ],
          "table": [
           {
            "cells": {
             "fill": {
              "color": "#EBF0F8"
             },
             "line": {
              "color": "white"
             }
            },
            "header": {
             "fill": {
              "color": "#C8D4E3"
             },
             "line": {
              "color": "white"
             }
            },
            "type": "table"
           }
          ]
         },
         "layout": {
          "annotationdefaults": {
           "arrowcolor": "#2a3f5f",
           "arrowhead": 0,
           "arrowwidth": 1
          },
          "autotypenumbers": "strict",
          "coloraxis": {
           "colorbar": {
            "outlinewidth": 0,
            "ticks": ""
           }
          },
          "colorscale": {
           "diverging": [
            [
             0,
             "#8e0152"
            ],
            [
             0.1,
             "#c51b7d"
            ],
            [
             0.2,
             "#de77ae"
            ],
            [
             0.3,
             "#f1b6da"
            ],
            [
             0.4,
             "#fde0ef"
            ],
            [
             0.5,
             "#f7f7f7"
            ],
            [
             0.6,
             "#e6f5d0"
            ],
            [
             0.7,
             "#b8e186"
            ],
            [
             0.8,
             "#7fbc41"
            ],
            [
             0.9,
             "#4d9221"
            ],
            [
             1,
             "#276419"
            ]
           ],
           "sequential": [
            [
             0,
             "#0d0887"
            ],
            [
             0.1111111111111111,
             "#46039f"
            ],
            [
             0.2222222222222222,
             "#7201a8"
            ],
            [
             0.3333333333333333,
             "#9c179e"
            ],
            [
             0.4444444444444444,
             "#bd3786"
            ],
            [
             0.5555555555555556,
             "#d8576b"
            ],
            [
             0.6666666666666666,
             "#ed7953"
            ],
            [
             0.7777777777777778,
             "#fb9f3a"
            ],
            [
             0.8888888888888888,
             "#fdca26"
            ],
            [
             1,
             "#f0f921"
            ]
           ],
           "sequentialminus": [
            [
             0,
             "#0d0887"
            ],
            [
             0.1111111111111111,
             "#46039f"
            ],
            [
             0.2222222222222222,
             "#7201a8"
            ],
            [
             0.3333333333333333,
             "#9c179e"
            ],
            [
             0.4444444444444444,
             "#bd3786"
            ],
            [
             0.5555555555555556,
             "#d8576b"
            ],
            [
             0.6666666666666666,
             "#ed7953"
            ],
            [
             0.7777777777777778,
             "#fb9f3a"
            ],
            [
             0.8888888888888888,
             "#fdca26"
            ],
            [
             1,
             "#f0f921"
            ]
           ]
          },
          "colorway": [
           "#636efa",
           "#EF553B",
           "#00cc96",
           "#ab63fa",
           "#FFA15A",
           "#19d3f3",
           "#FF6692",
           "#B6E880",
           "#FF97FF",
           "#FECB52"
          ],
          "font": {
           "color": "#2a3f5f"
          },
          "geo": {
           "bgcolor": "white",
           "lakecolor": "white",
           "landcolor": "#E5ECF6",
           "showlakes": true,
           "showland": true,
           "subunitcolor": "white"
          },
          "hoverlabel": {
           "align": "left"
          },
          "hovermode": "closest",
          "mapbox": {
           "style": "light"
          },
          "paper_bgcolor": "white",
          "plot_bgcolor": "#E5ECF6",
          "polar": {
           "angularaxis": {
            "gridcolor": "white",
            "linecolor": "white",
            "ticks": ""
           },
           "bgcolor": "#E5ECF6",
           "radialaxis": {
            "gridcolor": "white",
            "linecolor": "white",
            "ticks": ""
           }
          },
          "scene": {
           "xaxis": {
            "backgroundcolor": "#E5ECF6",
            "gridcolor": "white",
            "gridwidth": 2,
            "linecolor": "white",
            "showbackground": true,
            "ticks": "",
            "zerolinecolor": "white"
           },
           "yaxis": {
            "backgroundcolor": "#E5ECF6",
            "gridcolor": "white",
            "gridwidth": 2,
            "linecolor": "white",
            "showbackground": true,
            "ticks": "",
            "zerolinecolor": "white"
           },
           "zaxis": {
            "backgroundcolor": "#E5ECF6",
            "gridcolor": "white",
            "gridwidth": 2,
            "linecolor": "white",
            "showbackground": true,
            "ticks": "",
            "zerolinecolor": "white"
           }
          },
          "shapedefaults": {
           "line": {
            "color": "#2a3f5f"
           }
          },
          "ternary": {
           "aaxis": {
            "gridcolor": "white",
            "linecolor": "white",
            "ticks": ""
           },
           "baxis": {
            "gridcolor": "white",
            "linecolor": "white",
            "ticks": ""
           },
           "bgcolor": "#E5ECF6",
           "caxis": {
            "gridcolor": "white",
            "linecolor": "white",
            "ticks": ""
           }
          },
          "title": {
           "x": 0.05
          },
          "xaxis": {
           "automargin": true,
           "gridcolor": "white",
           "linecolor": "white",
           "ticks": "",
           "title": {
            "standoff": 15
           },
           "zerolinecolor": "white",
           "zerolinewidth": 2
          },
          "yaxis": {
           "automargin": true,
           "gridcolor": "white",
           "linecolor": "white",
           "ticks": "",
           "title": {
            "standoff": 15
           },
           "zerolinecolor": "white",
           "zerolinewidth": 2
          }
         }
        },
        "title": {
         "text": "Best hotels"
        }
       }
      },
      "image/png": "[encoded data removed]",
      "text/html": [
       "<div>                            <div id=\"4c5f1435-4adf-4d58-b881-eaec1d7fc0dc\" class=\"plotly-graph-div\" style=\"height:525px; width:100%;\"></div>            <script type=\"text/javascript\">                require([\"plotly\"], function(Plotly) {                    window.PLOTLYENV=window.PLOTLYENV || {};                                    if (document.getElementById(\"4c5f1435-4adf-4d58-b881-eaec1d7fc0dc\")) {                    Plotly.newPlot(                        \"4c5f1435-4adf-4d58-b881-eaec1d7fc0dc\",                        [{\"hovertemplate\":\"score=%{marker.color}<br>latitude_hotel=%{lat}<br>longitude_hotel=%{lon}<extra></extra>\",\"lat\":[43.9462327337098,43.9500576272619,43.951729,43.9440321278147,43.929032,43.9436294631586,43.9503443758655,43.94744645998,43.9262311665796,43.94254505533,43.9438081036903,43.9429013767361,43.904892495745,43.9481658007663,43.9259259387091,43.9442059390538,43.9455249566728,43.9475661897886,43.9489672037393,43.9435068285368,43.9422906932413,43.9498951380567,43.9446093348181,43.9446163246851,43.9503469433007,43.9569418,43.9510898394487,43.9754836836255,43.9440929618062,43.936195502875,43.9263393482337,43.9502995553487,43.9509511,43.9440746150534,43.9493061070468,43.9497628027494,43.9227576581892,43.9410463576336,43.9446965967306,43.947744,43.9533713478091,43.9509899395751,43.945588602008,43.9500166,43.9493997,43.944215,43.9444830321024,43.9525142512378,43.9476183301138,43.9454023259613,43.93518,43.9498699760739,43.9497169084325,43.9507095,43.9351902590879,43.950707,43.9524961448993,43.946948,43.9507271,43.9514716580949,43.9521007787407,43.9474485,43.9745160600323,43.9503,43.9456916,43.950855,43.946719,43.9527751,43.949259151306,43.9399338978011,43.9678828932184,43.9476274547164,43.9439754,43.94586044793,43.9372002,43.9513086460269,43.940337104299,43.9503546674348,43.9476071,43.9476495375144,43.9344691778332,43.9500765979741,43.9506374,43.9816396146695,43.9456141,43.951836,43.9489512723397,43.9524539,43.97504,43.9437200104571,43.9463282753436,43.9746558561364,43.9461414,43.950661,43.9526868,43.947213,43.968044,43.9504361,43.9451681,43.8948536082372,43.9508789,43.931291645885,43.9516637,43.9512813985748,43.944808200551,43.9495352773329,43.9497799,43.9506641388176,43.952073,43.9501606,43.9463060193751,43.9437563119742,43.9645951992521,43.9496377669598,43.9509749,43.9449146974007,43.9433767,43.926165484765,43.9302067131249,43.9528408209428,43.92929,43.9500835,43.9379117169879,43.951822397421,43.9260710708618,43.960167495275,43.9499013556144,43.9441113723071,43.9259858253136,43.94516,43.9513066319107,43.9441706,43.9274481988448,43.9436381537914,43.951639949815,43.9551016087045,43.945666,43.943842376921,43.9485079,43.9427353956332,43.948866947571,43.948524,43.9413094,43.9496041,43.9563875332253,43.9489813,43.9351979851916,43.9514058680036,43.9497013,43.9466755,43.9418203141116,43.9362041,43.945627225761,43.9490541,43.9463786,43.894590653345,43.9496469394784,43.9490847,43.9515236,43.94383,43.9424832541099,43.948841,43.9550301584396,43.948744,43.9462248541438,43.9465212,43.9470724,43.9356484875373,43.950083,43.949066854579,43.9490847,43.9498318,43.9470938,43.9504322312846,43.9473484,43.94895595212,43.952197882693,43.974736,43.9479290816362,43.9491943,43.945394476121,43.9510498,43.9514535,43.94832880731,43.9472019,43.9488792,43.939927228171,43.9456504,43.948612437023,43.951109,43.9507615,43.9447987,43.9379071164102,43.9378539,43.932104,43.949128,43.9454089,43.924495,43.9270545978802,43.947065,43.9498318,43.950149,43.935333933681,43.9523027567354,43.94516,43.949404668608,43.9488433,43.9397451058938,43.947065684988,43.9466067,43.9487782,43.949584,43.9465348,43.9185879,43.9435712,43.9488797,43.9312984,43.94459,43.946707125906,43.9498817,43.952160624904,43.938039526969,43.9519168,43.951051,43.9507519,43.94516,43.9444744110135,43.942722021967,43.9476199,43.951101,43.9397957,43.9490919,43.948191,43.9478896,43.980008,43.9443311,43.9477298,43.943046304059,43.943972594898,43.9519146,43.946055548844,43.9466963,43.942492880504,43.95193,43.9466483281048,43.9520796,43.945664,43.9488433,43.9494410402333,43.9438935,43.943877,43.9510865,43.9513189,43.9513033120821,43.9492408,43.944791940751,43.948841,43.949177566369,43.9517071,43.942199,43.944021058504,43.951428,43.9473145,43.948129,43.9355796,43.9510668,43.943344,43.9474523,43.946202,43.939615727422,43.9412836445053,43.9555514,43.948975,43.9519588,43.9469767,43.947477,43.9356652159926,43.9487265,43.94441,43.951411,43.939676747383,43.949295,43.950894,43.9516008950524,43.9392701,43.9467611,43.9477175,43.947677414366,43.9236044,43.951234,43.9494037274453,43.9379310313611,43.944024,43.942325,43.9500679082825,43.9356515,43.9445885,43.9473313,43.9428564,43.9410381,43.94115,43.95817,43.9510620205,43.951292521934,43.931214,43.9395574372715,43.9519168,43.9296122,43.939517678196,43.94459,43.949295,43.9451596,43.9501,43.9483394,43.949772501408,43.95127,43.9474295626086,43.949883,43.9495159538734,43.8157834,43.8354206497776,43.8395947565407,43.8227311202827,43.815377,43.8358153402745,43.821585485623,43.8361281547722,43.8338735348897,43.8377597332892,43.8342375300246,43.8373917,43.8324932804452,43.831504,43.8147073451298,43.837117,43.81465315292,43.8388721684592,43.829170655751,43.8147199254572,43.7884518923488,43.8512565239271,43.870469,43.853052,43.8330272990424,43.834472,43.8389950187237,43.840503068795,43.8420013,43.8347057502948,43.838666127684,43.850872,43.818459,43.835752,43.8358929,43.8371232,43.8403071,43.8372866,43.8281614,43.8320559021468,43.813890585896,43.8388150962031,43.8317575459101,43.8155763492052,43.815334,43.8409662889922,43.833162,43.8430619235136,43.8247659222373,43.8444911,43.837162209072,43.85597,43.8343632920283,43.8364238163426,43.842067884776,43.8342464784836,43.83501,43.824581,43.8428856,43.834037116544,43.8373218,43.8362611,43.817748252913,43.8205767477162,43.8307192,43.8376623,43.7885821536422,43.819014,43.8397627962523,43.8589782903443,43.8363813,43.841164,43.8740221708832,43.8343318635504,43.8411199,43.840143177897,43.8549624630414,43.8284216737951,43.836649147239,43.857101,43.8341668829,43.8392460970826,43.8208055133737,43.8309446498752,43.8389623,43.83297,43.847304,43.811083,43.878316,43.845396,43.8367908,43.836775,43.829368245185,43.8369370620494,43.8328550945411,43.8284391,43.84276364093,43.8396878,43.8397616,43.8372,43.83501,43.836776,43.8245807,43.8360140100135,43.831676,43.8374665580467,43.847853391317,43.835678,43.8150622,43.8345493,43.834412,43.836121,43.8388152000169,43.855521,43.838738998016,43.8305897085057,43.861261,43.8418084,43.838652,43.8218615,43.8476555,43.863235,43.837701946901,43.8386192,43.8378167008025,43.8338689,43.834112988481,43.8404999,43.839691530887,43.862278,43.834811,43.8423709365602,43.83546975589,43.8367765,43.8310991,43.8600965,43.8334491,43.813455,43.8597772307704,43.838388,43.8388238,43.8432805239309,43.8516089498659,43.872819,43.8495235519448,43.836397133369,43.8314949808831,43.840976333513,43.831942,43.8396639,43.8329752,43.8736159387224,43.8413941,43.836121,43.838391,43.8323056,43.8385091178479,43.839859,43.829366750289,43.83654,43.8197729,43.84861106869,43.8394659,43.837463,43.813455,43.8356454,43.839391387137,43.876852694862,43.8388343,43.8653286,43.847767,43.835906,43.8386192,43.833642397176,43.841024,43.8278875112154,43.8380784,43.850372,43.8369992,43.846759,44.023053337,44.011153,44.0126325895461,44.010806,44.0187071958688,44.0124643709857,44.014362301044,44.0108142596191,44.012017,44.012765,44.0133923870202,43.9957992430491,44.001412,43.9971194612628,44.0117798,43.996696040292,44.014756,44.017212186005,44.0156546,44.0121786,44.020244,44.0028448483536,44.014659,44.018242,44.0096419476156,43.982419,44.013157971008,44.0068325745551,44.0141777055043,43.9922866307744,44.0124311,44.0284314247316,44.0201613029839,44.0077179,44.0092451532731,44.0111671650711,43.9927782658901,44.0136549,44.011945,43.9986494853399,44.011549025737,44.0127444719537,44.0045397,44.0124311,44.0138601992265,44.0120196474601,44.009493,44.011209524618,44.01422,44.011972072032,44.008349,44.0113592478413,44.0127196904679,44.008369251464,44.0097566,44.0137,43.995238,44.037437,44.00271,44.020168,44.0103511961029,44.0154451458477,44.011847405338,44.0112465,44.009668,43.996230421818,44.0136,44.0141777,43.9958918616791,44.0111396,43.997428,44.0138027542442,44.0195447296099,43.965211796231,44.044067167921,44.00968,44.010751722279,44.0131999975249,44.0143457130385,44.0118774],\"legendgroup\":\"\",\"lon\":[4.81007046997547,4.8132187128067,4.810339,4.80533167719841,4.788189,4.81217131018639,4.81153784603271,4.80592846870422,4.78592723608017,4.80436205863953,4.80494678020477,4.79804277420044,4.89553034305573,4.80576485395432,4.85080718994141,4.8067170381546,4.80576083064079,4.80603039264679,4.80547249317169,4.82236504554749,4.80727434173355,4.8198638856411,4.80928240613423,4.80061233043671,4.80620741844177,4.80294509999999,4.79801933009412,4.82743710279465,4.81142029166222,4.826000747885,4.85013127326965,4.81104354418028,4.80620090000002,4.80015635490417,4.8093456029892,4.80384975671768,4.80429500341415,4.80665266513824,4.80499311779101,4.80797,4.81441263109446,4.81063020615159,4.810122790531,4.81288119999999,4.80887080000002,4.809472,4.79949587607484,4.81585921973499,4.80680353939533,4.81286700814962,4.821994,4.80851545929909,4.8035734044463,4.80338430000006,4.78094637393951,4.811875,4.81014221906662,4.79433599999993,4.8038052,4.80458517080456,4.80463296175003,4.80787129999999,4.83258962631226,4.8058055865082,4.80968159999998,4.810121,4.814024,4.8053707,4.814877424252,4.80614572763443,4.83388245105743,4.8117633981476,4.81414689999997,4.80509036899321,4.879587,4.81073502827951,4.8117496368053,4.80323016643524,4.8079964,4.80895768178408,4.81496628711989,4.8077067732811,4.81083179999996,4.8431449837426,4.80359920000001,4.812205,4.81241337954998,4.8158498,4.822944,4.80613209931598,4.81039058650822,4.8315703868866,4.81308760000002,4.81051,4.83472780000003,4.8120952,4.84577760000002,4.8109899,4.8107169,4.91302990954398,4.80995619999999,4.820387226459,4.804227,4.80403522346785,4.810046560013,4.81087959755325,4.8032072,4.81048387238729,4.814705,4.8088852,4.88842517137527,4.798152364418,4.8378199338913,4.80635896325111,4.81518359999995,4.80548322200775,4.81912729999999,4.84442085027695,4.79032874107361,4.80593383312225,4.78411800000003,4.8142527,4.82271373271942,4.825816953967,4.84903290867805,4.82208275082212,4.80647698044777,4.80579557056967,4.85163599252701,4.808157,4.80400931349186,4.80940380000004,4.8478889465332,4.79828953742981,4.806270164804,4.8199997491821,4.810924,4.81002665582,4.8105641,4.80243623256683,4.809147547685,4.807423,4.8169311,4.81154160000006,4.80199098587036,4.8074789,4.78102684020996,4.80340572327884,4.8036737,4.8033064,4.81495336441799,4.8021144,4.809690266934,4.8102312,4.8132329,4.912884016345,4.81051236391068,4.8064592,4.8170918,4.805912,4.82233822345734,4.806593,4.81983840465546,4.79703300000006,4.80181200000004,4.8130388,4.8094123,4.81162884418029,4.814253,4.810123446787,4.8064592,4.8085131,4.8131643,4.8056592785736,4.8127817,4.80791470859833,4.81700120231995,4.9931165,4.80683695337302,4.8115665,4.81760505159,4.8168594,4.81799799999999,4.812318157672,4.8076815,4.8064518,4.809668490993,4.8092933,4.804490088955,4.812082,4.80381439999996,4.80999839999999,4.87043056637049,4.8704543,4.884238304507,4.806311,4.81418719999999,4.826393,4.81054320931435,4.811029,4.8085131,4.808849,4.804490313296,4.81637803254091,4.808157,4.811101071185,4.8078557,4.8063301295042,4.811045769312,4.81000140000003,4.8073266,4.8084743,4.8360437,4.8903981,4.8084703,4.8055356,4.819889701852,4.810002,4.815668160154,4.8276406,4.811409039881,4.826564669312,4.8194818,4.806257,4.8168272,4.808157,4.81060352991062,4.86986649783671,4.8067702,4.812327,4.8160405,4.8107762,4.808427,4.8109505,4.840739,4.8102022,4.8121136,4.817832419505,4.813526,4.8151139,4.81546439230442,4.8154737,4.819210799722,4.80469900000003,4.82193442520065,4.81204830000001,4.808925,4.8078557,4.81129389256239,4.8069269,4.80857719999995,4.81731,4.81086740000001,4.82816129922867,4.811314,4.810052714733,4.806593,4.810831185285,4.81108130000007,4.878932,4.809092999633,4.81545,4.807103,4.850273,4.8279651,4.83332240000004,4.819158,4.8288798,4.851241,4.815697043568,4.85346694345606,4.8296315,4.807467,4.81483228650814,4.81029060000003,4.807578,4.81280515071944,4.8084664,4.807961,4.804167,4.816053242613,4.8065045,4.812025,4.82697241008282,4.8164826,4.8139353,4.8122261,4.81075112259145,4.8204993,4.810717,4.80894820001731,4.79902513325214,4.809707,4.810693,4.80918601155281,4.81217040000001,4.81028019999997,4.8132559,4.798493,4.8191984,4.8118476,4.823735,4.833048357891,4.806369701852,4.814932,4.80634497734756,4.8194818,4.8139715,4.81384536117,4.810002,4.8065045,4.8081572,4.8089,4.8012291,4.80390690566,4.812745,4.82126399874687,4.808017,4.81107665155525,4.3463127,4.36340421438217,4.36108410358429,4.36412572860718,4.345905,4.35914017260075,4.3645977973938,4.36126994535164,4.36143395952456,4.36387225985527,4.36079040169716,4.3567136,4.36785668134689,4.367797,4.34483259916306,4.357898,4.34430956840515,4.36974763870239,4.35692072209,4.34627361595631,4.35384232647618,4.30073976516724,4.40491,4.351386,4.36618968844414,4.356771,4.36281144618988,4.35905188941047,4.363243,4.36731219291687,4.35276791453362,4.31083,4.362642,4.3585,4.3651165,4.3700304,4.3702517,4.3617059,4.35479020000002,4.36736449599266,4.34434175491333,4.3548184633255,4.36697356402874,4.34660352766514,4.34405200000003,4.39121264054484,4.366397,4.33440423123322,4.369046241045,4.3677326,4.37634893529,4.36502,4.3653367459774,4.36474531888962,4.367556011233,4.35091853141785,4.349857,4.350535,4.3590621,4.353889097553,4.3593779,4.3587013,4.320133406746,4.31912697851658,4.3548016,4.3592227,4.35380257666111,4.325773,4.3569419908074,4.34992061622097,4.358278,4.367986,4.36582088470459,4.367129892089,4.3534314,4.358334849074,4.25264456667333,4.3207631726303,4.358286242328,4.347915,4.350478454649,4.36190008308881,4.37125319999996,4.36287749743395,4.3718843,4.354871,4.32921,4.2986312,4.403321,4.368959,4.3539616,4.356929,4.357869620164,4.35709834098816,4.35906688830883,4.37537829999997,4.35472676925542,4.3595836,4.3567186,4.346859,4.349857,4.358018,4.3505348,4.35991144081188,4.36020259999998,4.35176469789235,4.316878075394,4.358652,4.3359435,4.358399,4.347263,4.356573,4.36241362382685,4.38529,4.380236294477,4.35282677735801,4.366921,4.3578191,4.3576514,4.3607791,4.3625798,4.39901,4.360085403076,4.3624746,4.3588325327133,4.3570549,4.357895298811,4.3688585,4.352454786508,4.355442,4.34698,4.36280185950704,4.358533313492,4.3580184,4.3583395,4.35288949999995,4.3536415,4.394221,4.38782040633939,4.351273,4.345559,4.36270317857361,4.37470570206642,4.355637,4.32767230552258,4.358736246016,4.35929775238037,4.361336513492,4.364727,4.3567599,4.3548706,4.37002603862311,4.3056266,4.356573,4.346347,4.3682711,4.34529528021812,4.3658,4.357897132246,4.358829,4.32231999999999,4.36314443988113,4.3564264,4.364442,4.394221,4.3595184,4.353717209869,4.364816659817,4.3699188,4.4088041,4.345362,4.3563627,4.3624746,4.378096529052,4.359022,4.35043288220902,4.3590621,4.331555,4.359022,4.352102,4.42047223448753,4.420694,4.41414892673492,4.41752,4.41590916501241,4.42180011104506,4.41091964662701,4.41779908857734,4.420584,4.414323,4.42081974225846,4.42739207738509,4.419783,4.42578703165054,4.4063082,4.425974246033,4.420526,4.421508988098,4.4068772,4.40631810000002,4.409254,4.41645205009991,4.4200515,4.418825,4.41788524389267,4.437963,4.420561341104,4.42035013436225,4.42260727286339,4.43396687463974,4.4192362,4.42002385832893,4.43052643696217,4.4085783,4.41617399454117,4.4207141147499,4.42427515961754,4.42235579999999,4.419267,4.4080924987793,4.420137072353,4.42113071680069,4.4120199,4.4192362,4.42187352513122,4.41943443265698,4.4162865,4.420136667484,4.419562,4.419075213492,4.4077357,4.41826268220903,4.42112375519059,4.415249699488,4.41617759999997,4.4179929,4.421976,4.45216,4.419952,4.393468,4.4221975386231,4.40986999921734,4.414136186178,4.4188128,4.418032,4.425882684579,4.41709,4.4220873,4.4274671792374,4.4191369,4.412575,4.41965910730141,4.42851483821869,4.366439263439,4.406036122198,4.4163925,4.41664519384835,4.41806849265981,4.42268847778905,4.4213456],\"marker\":{\"color\":[8.3,8.7,8.4,8.1,6.8,8.6,9.1,7.9,7.9,8.3,7.8,8.2,7.9,8.9,7.2,8.3,8.2,7.7,8.3,7.2,7.8,7.7,9.7,7.5,8.1,8.1,9.3,8.5,7.8,8.9,7.2,9.7,9.7,9.1,8.4,7.5,8.4,7.5,8.6,9.6,8.2,9.1,9.3,9.3,8.8,9.0,9.0,9.1,8.9,8.5,9.2,9.4,8.3,8.5,6.9,9.5,9.1,8.8,9.3,8.0,9.5,9.1,9.5,8.4,8.3,9.3,8.5,9.0,9.3,7.3,9.4,9.0,9.1,9.0,8.7,9.7,8.7,8.8,9.3,9.0,9.4,9.0,9.9,9.3,8.7,9.7,9.5,9.6,9.4,8.9,8.4,9.0,8.4,9.8,7.3,9.1,9.4,9.7,9.4,9.6,9.7,8.3,9.5,9.0,8.2,8.0,9.6,9.9,9.4,9.3,9.1,7.8,9.8,8.3,8.8,5.3,9.4,8.2,6.1,7.9,8.3,9.6,4.4,8.9,7.5,9.5,8.0,8.9,7.5,8.5,8.9,8.6,8.1,7.4,9.7,9.0,9.5,9.7,9.7,8.0,9.4,9.7,8.2,9.3,7.8,7.5,6.9,9.3,9.2,9.3,8.9,9.2,8.7,9.2,8.7,9.6,9.4,9.2,9.5,8.5,6.4,8.6,8.8,8.9,8.6,9.0,7.5,9.1,9.0,8.6,9.1,8.2,9.2,8.3,8.7,9.3,9.2,6.8,8.6,8.9,8.3,6.2,8.8,9.6,9.4,8.1,8.9,8.8,9.7,8.8,9.0,8.1,6.1,7.2,9.3,9.1,9.0,9.4,8.7,8.4,6.7,9.4,8.0,9.4,9.2,6.8,8.7,6.9,9.2,8.6,9.4,8.7,8.3,8.8,8.7,8.8,8.4,8.1,7.1,8.3,9.0,9.0,9.0,9.4,8.7,8.8,7.9,9.1,8.3,9.7,8.2,7.3,9.3,9.4,9.6,8.2,6.5,7.3,8.4,8.3,9.2,7.8,7.0,9.3,9.5,9.6,9.9,9.7,9.1,8.6,8.4,9.0,9.6,9.2,4.5,8.9,8.8,9.0,8.9,8.1,9.0,8.9,8.6,8.5,8.4,9.3,9.2,8.3,8.3,7.7,9.2,7.0,8.1,8.9,9.0,8.0,8.6,9.0,7.4,8.9,8.4,8.4,9.3,7.9,9.0,8.7,8.0,9.1,10.0,8.8,8.6,9.3,8.0,9.5,9.5,9.4,8.5,7.2,8.7,7.3,9.3,9.1,8.5,10.0,9.2,7.1,6.0,7.7,7.9,8.4,9.1,7.9,9.5,10.0,8.3,9.1,9.3,5.7,7.8,7.5,8.0,8.0,7.0,7.3,8.6,7.2,7.0,8.8,6.8,8.1,8.1,7.6,8.2,7.8,9.5,7.1,7.7,8.7,7.5,7.6,8.2,9.7,9.7,7.1,9.9,7.6,9.2,9.0,8.9,9.0,9.1,8.9,8.6,9.2,7.5,9.1,7.7,7.4,8.1,7.9,8.1,8.4,7.4,6.5,9.2,8.5,8.1,7.9,6.2,7.0,9.5,8.7,8.4,7.6,9.5,9.6,8.4,9.2,9.2,8.9,9.5,9.2,8.1,9.4,7.9,8.5,8.8,8.3,9.2,8.8,7.2,8.6,8.9,8.7,8.7,5.9,8.9,9.8,9.5,9.5,9.0,9.1,9.4,8.7,8.2,9.8,8.3,8.9,8.6,9.2,7.9,9.4,8.5,7.9,8.9,9.3,9.0,9.2,6.2,9.5,9.5,8.8,9.8,9.5,9.5,9.0,8.8,9.2,8.8,4.4,8.2,9.6,8.3,7.0,7.0,9.9,7.9,8.4,9.3,8.6,9.6,10.0,8.6,8.4,8.8,8.3,8.5,9.1,8.9,9.6,9.8,8.6,6.7,8.2,9.3,8.6,8.2,9.0,9.0,7.3,9.1,9.4,9.4,9.6,7.6,8.9,8.3,8.8,8.4,7.7,9.8,9.9,8.6,9.8,8.1,9.4,9.2,9.7,6.8,9.0,8.6,8.9,8.0,8.0,9.4,9.6,10.0,9.6,9.0,9.7,8.7,8.3,8.3,8.8,9.4,6.4,8.1,9.0,9.1,9.0,8.8,7.7,7.6,9.4,8.9,9.2,9.1,9.7,9.0,9.0,7.8,8.9,8.2,9.1,7.3,9.2,8.6,9.0,8.4,9.8,7.9,8.9,9.7,9.2,8.1,9.4,9.5,9.0,8.4,9.6,8.7,7.6,9.1,8.8,9.0,8.3,9.0,8.0,9.3,8.1,8.7,8.7,9.5,9.5,9.5,6.3,8.8,7.2,9.7,8.0,9.1,9.7,8.5,8.9,8.8,9.9,9.7,8.5,9.1,9.4,9.8,9.5,8.5,9.7,9.9,9.1,9.4,9.5,9.2,9.7,9.6,8.0,8.5,9.4,9.0,8.3,8.5,8.9,9.7],\"coloraxis\":\"coloraxis\",\"size\":[8.3,8.7,8.4,8.1,6.8,8.6,9.1,7.9,7.9,8.3,7.8,8.2,7.9,8.9,7.2,8.3,8.2,7.7,8.3,7.2,7.8,7.7,9.7,7.5,8.1,8.1,9.3,8.5,7.8,8.9,7.2,9.7,9.7,9.1,8.4,7.5,8.4,7.5,8.6,9.6,8.2,9.1,9.3,9.3,8.8,9.0,9.0,9.1,8.9,8.5,9.2,9.4,8.3,8.5,6.9,9.5,9.1,8.8,9.3,8.0,9.5,9.1,9.5,8.4,8.3,9.3,8.5,9.0,9.3,7.3,9.4,9.0,9.1,9.0,8.7,9.7,8.7,8.8,9.3,9.0,9.4,9.0,9.9,9.3,8.7,9.7,9.5,9.6,9.4,8.9,8.4,9.0,8.4,9.8,7.3,9.1,9.4,9.7,9.4,9.6,9.7,8.3,9.5,9.0,8.2,8.0,9.6,9.9,9.4,9.3,9.1,7.8,9.8,8.3,8.8,5.3,9.4,8.2,6.1,7.9,8.3,9.6,4.4,8.9,7.5,9.5,8.0,8.9,7.5,8.5,8.9,8.6,8.1,7.4,9.7,9.0,9.5,9.7,9.7,8.0,9.4,9.7,8.2,9.3,7.8,7.5,6.9,9.3,9.2,9.3,8.9,9.2,8.7,9.2,8.7,9.6,9.4,9.2,9.5,8.5,6.4,8.6,8.8,8.9,8.6,9.0,7.5,9.1,9.0,8.6,9.1,8.2,9.2,8.3,8.7,9.3,9.2,6.8,8.6,8.9,8.3,6.2,8.8,9.6,9.4,8.1,8.9,8.8,9.7,8.8,9.0,8.1,6.1,7.2,9.3,9.1,9.0,9.4,8.7,8.4,6.7,9.4,8.0,9.4,9.2,6.8,8.7,6.9,9.2,8.6,9.4,8.7,8.3,8.8,8.7,8.8,8.4,8.1,7.1,8.3,9.0,9.0,9.0,9.4,8.7,8.8,7.9,9.1,8.3,9.7,8.2,7.3,9.3,9.4,9.6,8.2,6.5,7.3,8.4,8.3,9.2,7.8,7.0,9.3,9.5,9.6,9.9,9.7,9.1,8.6,8.4,9.0,9.6,9.2,4.5,8.9,8.8,9.0,8.9,8.1,9.0,8.9,8.6,8.5,8.4,9.3,9.2,8.3,8.3,7.7,9.2,7.0,8.1,8.9,9.0,8.0,8.6,9.0,7.4,8.9,8.4,8.4,9.3,7.9,9.0,8.7,8.0,9.1,10.0,8.8,8.6,9.3,8.0,9.5,9.5,9.4,8.5,7.2,8.7,7.3,9.3,9.1,8.5,10.0,9.2,7.1,6.0,7.7,7.9,8.4,9.1,7.9,9.5,10.0,8.3,9.1,9.3,5.7,7.8,7.5,8.0,8.0,7.0,7.3,8.6,7.2,7.0,8.8,6.8,8.1,8.1,7.6,8.2,7.8,9.5,7.1,7.7,8.7,7.5,7.6,8.2,9.7,9.7,7.1,9.9,7.6,9.2,9.0,8.9,9.0,9.1,8.9,8.6,9.2,7.5,9.1,7.7,7.4,8.1,7.9,8.1,8.4,7.4,6.5,9.2,8.5,8.1,7.9,6.2,7.0,9.5,8.7,8.4,7.6,9.5,9.6,8.4,9.2,9.2,8.9,9.5,9.2,8.1,9.4,7.9,8.5,8.8,8.3,9.2,8.8,7.2,8.6,8.9,8.7,8.7,5.9,8.9,9.8,9.5,9.5,9.0,9.1,9.4,8.7,8.2,9.8,8.3,8.9,8.6,9.2,7.9,9.4,8.5,7.9,8.9,9.3,9.0,9.2,6.2,9.5,9.5,8.8,9.8,9.5,9.5,9.0,8.8,9.2,8.8,4.4,8.2,9.6,8.3,7.0,7.0,9.9,7.9,8.4,9.3,8.6,9.6,10.0,8.6,8.4,8.8,8.3,8.5,9.1,8.9,9.6,9.8,8.6,6.7,8.2,9.3,8.6,8.2,9.0,9.0,7.3,9.1,9.4,9.4,9.6,7.6,8.9,8.3,8.8,8.4,7.7,9.8,9.9,8.6,9.8,8.1,9.4,9.2,9.7,6.8,9.0,8.6,8.9,8.0,8.0,9.4,9.6,10.0,9.6,9.0,9.7,8.7,8.3,8.3,8.8,9.4,6.4,8.1,9.0,9.1,9.0,8.8,7.7,7.6,9.4,8.9,9.2,9.1,9.7,9.0,9.0,7.8,8.9,8.2,9.1,7.3,9.2,8.6,9.0,8.4,9.8,7.9,8.9,9.7,9.2,8.1,9.4,9.5,9.0,8.4,9.6,8.7,7.6,9.1,8.8,9.0,8.3,9.0,8.0,9.3,8.1,8.7,8.7,9.5,9.5,9.5,6.3,8.8,7.2,9.7,8.0,9.1,9.7,8.5,8.9,8.8,9.9,9.7,8.5,9.1,9.4,9.8,9.5,8.5,9.7,9.9,9.1,9.4,9.5,9.2,9.7,9.6,8.0,8.5,9.4,9.0,8.3,8.5,8.9,9.7],\"sizemode\":\"area\",\"sizeref\":0.025},\"mode\":\"markers\",\"name\":\"\",\"showlegend\":false,\"subplot\":\"mapbox\",\"type\":\"scattermapbox\"}],                        {\"coloraxis\":{\"colorbar\":{\"title\":{\"text\":\"score\"}},\"colorscale\":[[0.0,\"#0d0887\"],[0.1111111111111111,\"#46039f\"],[0.2222222222222222,\"#7201a8\"],[0.3333333333333333,\"#9c179e\"],[0.4444444444444444,\"#bd3786\"],[0.5555555555555556,\"#d8576b\"],[0.6666666666666666,\"#ed7953\"],[0.7777777777777778,\"#fb9f3a\"],[0.8888888888888888,\"#fdca26\"],[1.0,\"#f0f921\"]]},\"legend\":{\"itemsizing\":\"constant\",\"tracegroupgap\":0},\"mapbox\":{\"center\":{\"lat\":43.92117382348945,\"lon\":4.618002351769822},\"domain\":{\"x\":[0.0,1.0],\"y\":[0.0,1.0]},\"style\":\"carto-positron\",\"zoom\":8},\"template\":{\"data\":{\"bar\":[{\"error_x\":{\"color\":\"#2a3f5f\"},\"error_y\":{\"color\":\"#2a3f5f\"},\"marker\":{\"line\":{\"color\":\"#E5ECF6\",\"width\":0.5},\"pattern\":{\"fillmode\":\"overlay\",\"size\":10,\"solidity\":0.2}},\"type\":\"bar\"}],\"barpolar\":[{\"marker\":{\"line\":{\"color\":\"#E5ECF6\",\"width\":0.5},\"pattern\":{\"fillmode\":\"overlay\",\"size\":10,\"solidity\":0.2}},\"type\":\"barpolar\"}],\"carpet\":[{\"aaxis\":{\"endlinecolor\":\"#2a3f5f\",\"gridcolor\":\"white\",\"linecolor\":\"white\",\"minorgridcolor\":\"white\",\"startlinecolor\":\"#2a3f5f\"},\"baxis\":{\"endlinecolor\":\"#2a3f5f\",\"gridcolor\":\"white\",\"linecolor\":\"white\",\"minorgridcolor\":\"white\",\"startlinecolor\":\"#2a3f5f\"},\"type\":\"carpet\"}],\"choropleth\":[{\"colorbar\":{\"outlinewidth\":0,\"ticks\":\"\"},\"type\":\"choropleth\"}],\"contour\":[{\"colorbar\":{\"outlinewidth\":0,\"ticks\":\"\"},\"colorscale\":[[0.0,\"#0d0887\"],[0.1111111111111111,\"#46039f\"],[0.2222222222222222,\"#7201a8\"],[0.3333333333333333,\"#9c179e\"],[0.4444444444444444,\"#bd3786\"],[0.5555555555555556,\"#d8576b\"],[0.6666666666666666,\"#ed7953\"],[0.7777777777777778,\"#fb9f3a\"],[0.8888888888888888,\"#fdca26\"],[1.0,\"#f0f921\"]],\"type\":\"contour\"}],\"contourcarpet\":[{\"colorbar\":{\"outlinewidth\":0,\"ticks\":\"\"},\"type\":\"contourcarpet\"}],\"heatmap\":[{\"colorbar\":{\"outlinewidth\":0,\"ticks\":\"\"},\"colorscale\":[[0.0,\"#0d0887\"],[0.1111111111111111,\"#46039f\"],[0.2222222222222222,\"#7201a8\"],[0.3333333333333333,\"#9c179e\"],[0.4444444444444444,\"#bd3786\"],[0.5555555555555556,\"#d8576b\"],[0.6666666666666666,\"#ed7953\"],[0.7777777777777778,\"#fb9f3a\"],[0.8888888888888888,\"#fdca26\"],[1.0,\"#f0f921\"]],\"type\":\"heatmap\"}],\"heatmapgl\":[{\"colorbar\":{\"outlinewidth\":0,\"ticks\":\"\"},\"colorscale\":[[0.0,\"#0d0887\"],[0.1111111111111111,\"#46039f\"],[0.2222222222222222,\"#7201a8\"],[0.3333333333333333,\"#9c179e\"],[0.4444444444444444,\"#bd3786\"],[0.5555555555555556,\"#d8576b\"],[0.6666666666666666,\"#ed7953\"],[0.7777777777777778,\"#fb9f3a\"],[0.8888888888888888,\"#fdca26\"],[1.0,\"#f0f921\"]],\"type\":\"heatmapgl\"}],\"histogram\":[{\"marker\":{\"pattern\":{\"fillmode\":\"overlay\",\"size\":10,\"solidity\":0.2}},\"type\":\"histogram\"}],\"histogram2d\":[{\"colorbar\":{\"outlinewidth\":0,\"ticks\":\"\"},\"colorscale\":[[0.0,\"#0d0887\"],[0.1111111111111111,\"#46039f\"],[0.2222222222222222,\"#7201a8\"],[0.3333333333333333,\"#9c179e\"],[0.4444444444444444,\"#bd3786\"],[0.5555555555555556,\"#d8576b\"],[0.6666666666666666,\"#ed7953\"],[0.7777777777777778,\"#fb9f3a\"],[0.8888888888888888,\"#fdca26\"],[1.0,\"#f0f921\"]],\"type\":\"histogram2d\"}],\"histogram2dcontour\":[{\"colorbar\":{\"outlinewidth\":0,\"ticks\":\"\"},\"colorscale\":[[0.0,\"#0d0887\"],[0.1111111111111111,\"#46039f\"],[0.2222222222222222,\"#7201a8\"],[0.3333333333333333,\"#9c179e\"],[0.4444444444444444,\"#bd3786\"],[0.5555555555555556,\"#d8576b\"],[0.6666666666666666,\"#ed7953\"],[0.7777777777777778,\"#fb9f3a\"],[0.8888888888888888,\"#fdca26\"],[1.0,\"#f0f921\"]],\"type\":\"histogram2dcontour\"}],\"mesh3d\":[{\"colorbar\":{\"outlinewidth\":0,\"ticks\":\"\"},\"type\":\"mesh3d\"}],\"parcoords\":[{\"line\":{\"colorbar\":{\"outlinewidth\":0,\"ticks\":\"\"}},\"type\":\"parcoords\"}],\"pie\":[{\"automargin\":true,\"type\":\"pie\"}],\"scatter\":[{\"marker\":{\"colorbar\":{\"outlinewidth\":0,\"ticks\":\"\"}},\"type\":\"scatter\"}],\"scatter3d\":[{\"line\":{\"colorbar\":{\"outlinewidth\":0,\"ticks\":\"\"}},\"marker\":{\"colorbar\":{\"outlinewidth\":0,\"ticks\":\"\"}},\"type\":\"scatter3d\"}],\"scattercarpet\":[{\"marker\":{\"colorbar\":{\"outlinewidth\":0,\"ticks\":\"\"}},\"type\":\"scattercarpet\"}],\"scattergeo\":[{\"marker\":{\"colorbar\":{\"outlinewidth\":0,\"ticks\":\"\"}},\"type\":\"scattergeo\"}],\"scattergl\":[{\"marker\":{\"colorbar\":{\"outlinewidth\":0,\"ticks\":\"\"}},\"type\":\"scattergl\"}],\"scattermapbox\":[{\"marker\":{\"colorbar\":{\"outlinewidth\":0,\"ticks\":\"\"}},\"type\":\"scattermapbox\"}],\"scatterpolar\":[{\"marker\":{\"colorbar\":{\"outlinewidth\":0,\"ticks\":\"\"}},\"type\":\"scatterpolar\"}],\"scatterpolargl\":[{\"marker\":{\"colorbar\":{\"outlinewidth\":0,\"ticks\":\"\"}},\"type\":\"scatterpolargl\"}],\"scatterternary\":[{\"marker\":{\"colorbar\":{\"outlinewidth\":0,\"ticks\":\"\"}},\"type\":\"scatterternary\"}],\"surface\":[{\"colorbar\":{\"outlinewidth\":0,\"ticks\":\"\"},\"colorscale\":[[0.0,\"#0d0887\"],[0.1111111111111111,\"#46039f\"],[0.2222222222222222,\"#7201a8\"],[0.3333333333333333,\"#9c179e\"],[0.4444444444444444,\"#bd3786\"],[0.5555555555555556,\"#d8576b\"],[0.6666666666666666,\"#ed7953\"],[0.7777777777777778,\"#fb9f3a\"],[0.8888888888888888,\"#fdca26\"],[1.0,\"#f0f921\"]],\"type\":\"surface\"}],\"table\":[{\"cells\":{\"fill\":{\"color\":\"#EBF0F8\"},\"line\":{\"color\":\"white\"}},\"header\":{\"fill\":{\"color\":\"#C8D4E3\"},\"line\":{\"color\":\"white\"}},\"type\":\"table\"}]},\"layout\":{\"annotationdefaults\":{\"arrowcolor\":\"#2a3f5f\",\"arrowhead\":0,\"arrowwidth\":1},\"autotypenumbers\":\"strict\",\"coloraxis\":{\"colorbar\":{\"outlinewidth\":0,\"ticks\":\"\"}},\"colorscale\":{\"diverging\":[[0,\"#8e0152\"],[0.1,\"#c51b7d\"],[0.2,\"#de77ae\"],[0.3,\"#f1b6da\"],[0.4,\"#fde0ef\"],[0.5,\"#f7f7f7\"],[0.6,\"#e6f5d0\"],[0.7,\"#b8e186\"],[0.8,\"#7fbc41\"],[0.9,\"#4d9221\"],[1,\"#276419\"]],\"sequential\":[[0.0,\"#0d0887\"],[0.1111111111111111,\"#46039f\"],[0.2222222222222222,\"#7201a8\"],[0.3333333333333333,\"#9c179e\"],[0.4444444444444444,\"#bd3786\"],[0.5555555555555556,\"#d8576b\"],[0.6666666666666666,\"#ed7953\"],[0.7777777777777778,\"#fb9f3a\"],[0.8888888888888888,\"#fdca26\"],[1.0,\"#f0f921\"]],\"sequentialminus\":[[0.0,\"#0d0887\"],[0.1111111111111111,\"#46039f\"],[0.2222222222222222,\"#7201a8\"],[0.3333333333333333,\"#9c179e\"],[0.4444444444444444,\"#bd3786\"],[0.5555555555555556,\"#d8576b\"],[0.6666666666666666,\"#ed7953\"],[0.7777777777777778,\"#fb9f3a\"],[0.8888888888888888,\"#fdca26\"],[1.0,\"#f0f921\"]]},\"colorway\":[\"#636efa\",\"#EF553B\",\"#00cc96\",\"#ab63fa\",\"#FFA15A\",\"#19d3f3\",\"#FF6692\",\"#B6E880\",\"#FF97FF\",\"#FECB52\"],\"font\":{\"color\":\"#2a3f5f\"},\"geo\":{\"bgcolor\":\"white\",\"lakecolor\":\"white\",\"landcolor\":\"#E5ECF6\",\"showlakes\":true,\"showland\":true,\"subunitcolor\":\"white\"},\"hoverlabel\":{\"align\":\"left\"},\"hovermode\":\"closest\",\"mapbox\":{\"style\":\"light\"},\"paper_bgcolor\":\"white\",\"plot_bgcolor\":\"#E5ECF6\",\"polar\":{\"angularaxis\":{\"gridcolor\":\"white\",\"linecolor\":\"white\",\"ticks\":\"\"},\"bgcolor\":\"#E5ECF6\",\"radialaxis\":{\"gridcolor\":\"white\",\"linecolor\":\"white\",\"ticks\":\"\"}},\"scene\":{\"xaxis\":{\"backgroundcolor\":\"#E5ECF6\",\"gridcolor\":\"white\",\"gridwidth\":2,\"linecolor\":\"white\",\"showbackground\":true,\"ticks\":\"\",\"zerolinecolor\":\"white\"},\"yaxis\":{\"backgroundcolor\":\"#E5ECF6\",\"gridcolor\":\"white\",\"gridwidth\":2,\"linecolor\":\"white\",\"showbackground\":true,\"ticks\":\"\",\"zerolinecolor\":\"white\"},\"zaxis\":{\"backgroundcolor\":\"#E5ECF6\",\"gridcolor\":\"white\",\"gridwidth\":2,\"linecolor\":\"white\",\"showbackground\":true,\"ticks\":\"\",\"zerolinecolor\":\"white\"}},\"shapedefaults\":{\"line\":{\"color\":\"#2a3f5f\"}},\"ternary\":{\"aaxis\":{\"gridcolor\":\"white\",\"linecolor\":\"white\",\"ticks\":\"\"},\"baxis\":{\"gridcolor\":\"white\",\"linecolor\":\"white\",\"ticks\":\"\"},\"bgcolor\":\"#E5ECF6\",\"caxis\":{\"gridcolor\":\"white\",\"linecolor\":\"white\",\"ticks\":\"\"}},\"title\":{\"x\":0.05},\"xaxis\":{\"automargin\":true,\"gridcolor\":\"white\",\"linecolor\":\"white\",\"ticks\":\"\",\"title\":{\"standoff\":15},\"zerolinecolor\":\"white\",\"zerolinewidth\":2},\"yaxis\":{\"automargin\":true,\"gridcolor\":\"white\",\"linecolor\":\"white\",\"ticks\":\"\",\"title\":{\"standoff\":15},\"zerolinecolor\":\"white\",\"zerolinewidth\":2}}},\"title\":{\"text\":\"Best hotels\"}},                        {\"responsive\": true}                    ).then(function(){\n",
       "                            \n",
       "var gd = document.getElementById('4c5f1435-4adf-4d58-b881-eaec1d7fc0dc');\n",
       "var x = new MutationObserver(function (mutations, observer) {{\n",
       "        var display = window.getComputedStyle(gd).display;\n",
       "        if (!display || display === 'none') {{\n",
       "            console.log([gd, 'removed!']);\n",
       "            Plotly.purge(gd);\n",
       "            observer.disconnect();\n",
       "        }}\n",
       "}});\n",
       "\n",
       "// Listen for the removal of the full notebook cells\n",
       "var notebookContainer = gd.closest('#notebook-container');\n",
       "if (notebookContainer) {{\n",
       "    x.observe(notebookContainer, {childList: true});\n",
       "}}\n",
       "\n",
       "// Listen for the clearing of the current output cell\n",
       "var outputEl = gd.closest('.output');\n",
       "if (outputEl) {{\n",
       "    x.observe(outputEl, {childList: true});\n",
       "}}\n",
       "\n",
       "                        })                };                });            </script>        </div>"
      ]
     },
     "metadata": {},
     "output_type": "display_data"
    }
   ],
   "source": [
    "#Creating the map\n",
    "fig2 = px.scatter_mapbox(df_top_cities_hotels, \n",
    "                        lat = \"latitude_hotel\",\n",
    "                        lon = \"longitude_hotel\",\n",
    "                        color = \"score\",\n",
    "                        size = \"score\",\n",
    "                        mapbox_style = \"carto-positron\",\n",
    "                        title = 'Best hotels')\n",
    "fig2.show()"
   ]
  },
  {
   "cell_type": "code",
   "execution_count": null,
   "metadata": {},
   "outputs": [],
   "source": [
    "#Creating a new dataset with latitude and longitude infos for the 10 best cities\n",
    "df_top_cities = dataset.drop([\"day_month\", \"weather_desc\", \"prob_precipitation\", \"daily_temperature\"], axis=1)\n",
    "\n",
    "df_top_cities = df_top_cities.drop_duplicates()\n",
    "\n",
    "df_top_cities = df_top_cities.loc[df_top_cities[\"city_name\"]\\\n",
    "                                .isin(top_cities_name)]\\\n",
    "                                .reset_index()\\\n",
    "                                .drop(\"index\", axis = 1)\n",
    "df_top_cities"
   ]
  },
  {
   "cell_type": "code",
   "execution_count": null,
   "metadata": {},
   "outputs": [],
   "source": []
  }
 ],
 "metadata": {
  "kernelspec": {
   "display_name": "Python 3",
   "language": "python",
   "name": "python3"
  },
  "language_info": {
   "codemirror_mode": {
    "name": "ipython",
    "version": 3
   },
   "file_extension": ".py",
   "mimetype": "text/x-python",
   "name": "python",
   "nbconvert_exporter": "python",
   "pygments_lexer": "ipython3",
   "version": "3.8.6"
  }
 },
 "nbformat": 4,
 "nbformat_minor": 4
}
